{
  "nbformat": 4,
  "nbformat_minor": 0,
  "metadata": {
    "colab": {
      "name": "Untitled14.ipynb",
      "provenance": [],
      "collapsed_sections": [],
      "authorship_tag": "ABX9TyMIsFxixVlyJm1GikGfthaj",
      "include_colab_link": true
    },
    "kernelspec": {
      "display_name": "Python 3",
      "name": "python3"
    },
    "language_info": {
      "name": "python"
    }
  },
  "cells": [
    {
      "cell_type": "markdown",
      "metadata": {
        "id": "view-in-github",
        "colab_type": "text"
      },
      "source": [
        "<a href=\"https://colab.research.google.com/github/OlegDenisenko/Data-analyst-Step1k/blob/main/7.%20A%D0%BDa%D0%BBu%D1%82u%D0%BA_%D0%B4a%D0%BD%D0%BD%D1%8B%D1%85_%D0%BE%D0%BF_St%D0%B5%D1%80uk..ipynb\" target=\"_parent\"><img src=\"https://colab.research.google.com/assets/colab-badge.svg\" alt=\"Open In Colab\"/></a>"
      ]
    },
    {
      "cell_type": "markdown",
      "metadata": {
        "id": "aMfl5PHKzJuL"
      },
      "source": [
        "**Мини-проект**\n",
        "\n",
        "Перед вами данные взаимодействий с рекламными объявлениями на некоторой площадке за 6 дней. И таблица с характеристиками рекламных клиентов (те, кто разместил эти объявления).\n",
        "\n",
        "ads_data.csv – данные взаимодействий с рекламными объявлениями\n",
        "date – дата\n",
        "time – время\n",
        "event – действие (просмотр/клик)\n",
        "platform – платформа\n",
        "ad_id – id объявления\n",
        "client_union_id – id рекламного кабинета\n",
        "campaign_union_id – id рекламной кампании\n",
        "ad_cost_type – тип оплаты\n",
        "ad_cost – цена\n",
        "has_video – есть ли видео\n",
        "target_audience_count – размер аудитории\n",
        "\n",
        "ads_clients_data.csv – характеристики рекламных клиентов\n",
        "date – дата\n",
        "client_union_id – id рекламного кабинета\n",
        "community_id – id сообщества\n",
        "create_date – дата создания рекламного клиента"
      ]
    },
    {
      "cell_type": "code",
      "metadata": {
        "id": "IJG-3RluvAzw"
      },
      "source": [
        "import pandas as pd\n",
        "import numpy as np\n",
        "import seaborn as sns\n",
        "import matplotlib.pyplot as plt"
      ],
      "execution_count": 1,
      "outputs": []
    },
    {
      "cell_type": "code",
      "metadata": {
        "id": "ylH7AR6Zg8Vw"
      },
      "source": [
        "path_data = '/content/sample_data/ads_data.csv'\n",
        "path_clients = '/content/sample_data/ads_clients_data.csv'"
      ],
      "execution_count": 2,
      "outputs": []
    },
    {
      "cell_type": "code",
      "metadata": {
        "colab": {
          "base_uri": "https://localhost:8080/",
          "height": 204
        },
        "id": "4B77Hp3Dg8kC",
        "outputId": "e8d2d8c7-676b-40d7-baf7-5d9fe303e859"
      },
      "source": [
        "ads_data = pd.read_csv(path_data)\n",
        "ads_data.head()"
      ],
      "execution_count": 3,
      "outputs": [
        {
          "output_type": "execute_result",
          "data": {
            "text/html": [
              "<div>\n",
              "<style scoped>\n",
              "    .dataframe tbody tr th:only-of-type {\n",
              "        vertical-align: middle;\n",
              "    }\n",
              "\n",
              "    .dataframe tbody tr th {\n",
              "        vertical-align: top;\n",
              "    }\n",
              "\n",
              "    .dataframe thead th {\n",
              "        text-align: right;\n",
              "    }\n",
              "</style>\n",
              "<table border=\"1\" class=\"dataframe\">\n",
              "  <thead>\n",
              "    <tr style=\"text-align: right;\">\n",
              "      <th></th>\n",
              "      <th>date</th>\n",
              "      <th>time</th>\n",
              "      <th>event</th>\n",
              "      <th>platform</th>\n",
              "      <th>ad_id</th>\n",
              "      <th>client_union_id</th>\n",
              "      <th>campaign_union_id</th>\n",
              "      <th>ad_cost_type</th>\n",
              "      <th>ad_cost</th>\n",
              "      <th>has_video</th>\n",
              "      <th>target_audience_count</th>\n",
              "    </tr>\n",
              "  </thead>\n",
              "  <tbody>\n",
              "    <tr>\n",
              "      <th>0</th>\n",
              "      <td>2019-04-01</td>\n",
              "      <td>2019-04-01 00:00:48</td>\n",
              "      <td>view</td>\n",
              "      <td>android</td>\n",
              "      <td>45061.0</td>\n",
              "      <td>34734.0</td>\n",
              "      <td>45061.0</td>\n",
              "      <td>CPM</td>\n",
              "      <td>200.6</td>\n",
              "      <td>0.0</td>\n",
              "      <td>1955269.0</td>\n",
              "    </tr>\n",
              "    <tr>\n",
              "      <th>1</th>\n",
              "      <td>2019-04-01</td>\n",
              "      <td>2019-04-01 00:00:48</td>\n",
              "      <td>view</td>\n",
              "      <td>web</td>\n",
              "      <td>121288.0</td>\n",
              "      <td>121288.0</td>\n",
              "      <td>121288.0</td>\n",
              "      <td>CPM</td>\n",
              "      <td>187.4</td>\n",
              "      <td>0.0</td>\n",
              "      <td>232011.0</td>\n",
              "    </tr>\n",
              "    <tr>\n",
              "      <th>2</th>\n",
              "      <td>2019-04-01</td>\n",
              "      <td>2019-04-01 00:01:03</td>\n",
              "      <td>view</td>\n",
              "      <td>android</td>\n",
              "      <td>102737.0</td>\n",
              "      <td>102535.0</td>\n",
              "      <td>102564.0</td>\n",
              "      <td>CPC</td>\n",
              "      <td>60.7</td>\n",
              "      <td>0.0</td>\n",
              "      <td>4410.0</td>\n",
              "    </tr>\n",
              "    <tr>\n",
              "      <th>3</th>\n",
              "      <td>2019-04-01</td>\n",
              "      <td>2019-04-01 00:01:03</td>\n",
              "      <td>view</td>\n",
              "      <td>android</td>\n",
              "      <td>107564.0</td>\n",
              "      <td>106914.0</td>\n",
              "      <td>107564.0</td>\n",
              "      <td>CPM</td>\n",
              "      <td>217.3</td>\n",
              "      <td>0.0</td>\n",
              "      <td>62711.0</td>\n",
              "    </tr>\n",
              "    <tr>\n",
              "      <th>4</th>\n",
              "      <td>2019-04-01</td>\n",
              "      <td>2019-04-01 00:01:09</td>\n",
              "      <td>view</td>\n",
              "      <td>android</td>\n",
              "      <td>4922.0</td>\n",
              "      <td>37.0</td>\n",
              "      <td>4400.0</td>\n",
              "      <td>CPC</td>\n",
              "      <td>60.1</td>\n",
              "      <td>0.0</td>\n",
              "      <td>1183501.0</td>\n",
              "    </tr>\n",
              "  </tbody>\n",
              "</table>\n",
              "</div>"
            ],
            "text/plain": [
              "         date                 time  ... has_video target_audience_count\n",
              "0  2019-04-01  2019-04-01 00:00:48  ...       0.0             1955269.0\n",
              "1  2019-04-01  2019-04-01 00:00:48  ...       0.0              232011.0\n",
              "2  2019-04-01  2019-04-01 00:01:03  ...       0.0                4410.0\n",
              "3  2019-04-01  2019-04-01 00:01:03  ...       0.0               62711.0\n",
              "4  2019-04-01  2019-04-01 00:01:09  ...       0.0             1183501.0\n",
              "\n",
              "[5 rows x 11 columns]"
            ]
          },
          "metadata": {},
          "execution_count": 3
        }
      ]
    },
    {
      "cell_type": "code",
      "metadata": {
        "colab": {
          "base_uri": "https://localhost:8080/",
          "height": 204
        },
        "id": "YAxDJHOQg8vX",
        "outputId": "a3e5c9d0-bae2-416a-9cce-a9139af17e60"
      },
      "source": [
        "ads_clients = pd.read_csv(path_clients)\n",
        "ads_clients.head()"
      ],
      "execution_count": 4,
      "outputs": [
        {
          "output_type": "execute_result",
          "data": {
            "text/html": [
              "<div>\n",
              "<style scoped>\n",
              "    .dataframe tbody tr th:only-of-type {\n",
              "        vertical-align: middle;\n",
              "    }\n",
              "\n",
              "    .dataframe tbody tr th {\n",
              "        vertical-align: top;\n",
              "    }\n",
              "\n",
              "    .dataframe thead th {\n",
              "        text-align: right;\n",
              "    }\n",
              "</style>\n",
              "<table border=\"1\" class=\"dataframe\">\n",
              "  <thead>\n",
              "    <tr style=\"text-align: right;\">\n",
              "      <th></th>\n",
              "      <th>date</th>\n",
              "      <th>client_union_id</th>\n",
              "      <th>community_id</th>\n",
              "      <th>create_date</th>\n",
              "    </tr>\n",
              "  </thead>\n",
              "  <tbody>\n",
              "    <tr>\n",
              "      <th>0</th>\n",
              "      <td>2020-05-07</td>\n",
              "      <td>1</td>\n",
              "      <td>-130371893</td>\n",
              "      <td>2018-12-24</td>\n",
              "    </tr>\n",
              "    <tr>\n",
              "      <th>1</th>\n",
              "      <td>2020-05-07</td>\n",
              "      <td>2</td>\n",
              "      <td>-130304626</td>\n",
              "      <td>2019-02-10</td>\n",
              "    </tr>\n",
              "    <tr>\n",
              "      <th>2</th>\n",
              "      <td>2020-05-07</td>\n",
              "      <td>3</td>\n",
              "      <td>-130462599</td>\n",
              "      <td>2019-01-25</td>\n",
              "    </tr>\n",
              "    <tr>\n",
              "      <th>3</th>\n",
              "      <td>2020-05-07</td>\n",
              "      <td>4</td>\n",
              "      <td>-130574300</td>\n",
              "      <td>2018-12-09</td>\n",
              "    </tr>\n",
              "    <tr>\n",
              "      <th>4</th>\n",
              "      <td>2020-05-07</td>\n",
              "      <td>5</td>\n",
              "      <td>-130292358</td>\n",
              "      <td>2019-01-08</td>\n",
              "    </tr>\n",
              "  </tbody>\n",
              "</table>\n",
              "</div>"
            ],
            "text/plain": [
              "         date  client_union_id  community_id create_date\n",
              "0  2020-05-07                1    -130371893  2018-12-24\n",
              "1  2020-05-07                2    -130304626  2019-02-10\n",
              "2  2020-05-07                3    -130462599  2019-01-25\n",
              "3  2020-05-07                4    -130574300  2018-12-09\n",
              "4  2020-05-07                5    -130292358  2019-01-08"
            ]
          },
          "metadata": {},
          "execution_count": 4
        }
      ]
    },
    {
      "cell_type": "markdown",
      "metadata": {
        "id": "wsFYhPuYjXN8"
      },
      "source": [
        "Разберемся с распределением количества показов и кликов. Посчитайте среднее количество показов и среднее количество кликов на объявления за весь период (округлите до целых)."
      ]
    },
    {
      "cell_type": "code",
      "metadata": {
        "id": "hSU8eg7qg86j"
      },
      "source": [
        "number_per_ad_per_event = ads_data.groupby(['ad_id', 'event'], as_index=False)\\\n",
        "                                  .agg({'time': 'count'})\\\n",
        "                                  .rename(columns={'time': 'event_number'})"
      ],
      "execution_count": 5,
      "outputs": []
    },
    {
      "cell_type": "code",
      "metadata": {
        "colab": {
          "base_uri": "https://localhost:8080/",
          "height": 204
        },
        "id": "is1ZfRz-g9Dt",
        "outputId": "f1ac49ed-18ce-4cd3-9601-b54f5567e6d6"
      },
      "source": [
        "number_per_ad_per_event.head()"
      ],
      "execution_count": 6,
      "outputs": [
        {
          "output_type": "execute_result",
          "data": {
            "text/html": [
              "<div>\n",
              "<style scoped>\n",
              "    .dataframe tbody tr th:only-of-type {\n",
              "        vertical-align: middle;\n",
              "    }\n",
              "\n",
              "    .dataframe tbody tr th {\n",
              "        vertical-align: top;\n",
              "    }\n",
              "\n",
              "    .dataframe thead th {\n",
              "        text-align: right;\n",
              "    }\n",
              "</style>\n",
              "<table border=\"1\" class=\"dataframe\">\n",
              "  <thead>\n",
              "    <tr style=\"text-align: right;\">\n",
              "      <th></th>\n",
              "      <th>ad_id</th>\n",
              "      <th>event</th>\n",
              "      <th>event_number</th>\n",
              "    </tr>\n",
              "  </thead>\n",
              "  <tbody>\n",
              "    <tr>\n",
              "      <th>0</th>\n",
              "      <td>2.0</td>\n",
              "      <td>click</td>\n",
              "      <td>1</td>\n",
              "    </tr>\n",
              "    <tr>\n",
              "      <th>1</th>\n",
              "      <td>2.0</td>\n",
              "      <td>view</td>\n",
              "      <td>101</td>\n",
              "    </tr>\n",
              "    <tr>\n",
              "      <th>2</th>\n",
              "      <td>3.0</td>\n",
              "      <td>click</td>\n",
              "      <td>3</td>\n",
              "    </tr>\n",
              "    <tr>\n",
              "      <th>3</th>\n",
              "      <td>3.0</td>\n",
              "      <td>view</td>\n",
              "      <td>184</td>\n",
              "    </tr>\n",
              "    <tr>\n",
              "      <th>4</th>\n",
              "      <td>1902.0</td>\n",
              "      <td>click</td>\n",
              "      <td>1</td>\n",
              "    </tr>\n",
              "  </tbody>\n",
              "</table>\n",
              "</div>"
            ],
            "text/plain": [
              "    ad_id  event  event_number\n",
              "0     2.0  click             1\n",
              "1     2.0   view           101\n",
              "2     3.0  click             3\n",
              "3     3.0   view           184\n",
              "4  1902.0  click             1"
            ]
          },
          "metadata": {},
          "execution_count": 6
        }
      ]
    },
    {
      "cell_type": "markdown",
      "metadata": {
        "id": "fSAIXo9Ty4aV"
      },
      "source": [
        "Для корректного расчёта нужно добавить нулевые значения кликов"
      ]
    },
    {
      "cell_type": "code",
      "metadata": {
        "id": "5Z0Cy943wY9V"
      },
      "source": [
        "pivot_per_ad_events = number_per_ad_per_event.pivot(index='ad_id',\n",
        "                                                    columns='event',\n",
        "                                                    values='event_number')\\\n",
        "                                                    .fillna(0)"
      ],
      "execution_count": 7,
      "outputs": []
    },
    {
      "cell_type": "code",
      "metadata": {
        "colab": {
          "base_uri": "https://localhost:8080/",
          "height": 235
        },
        "id": "fvIEs6S5zRGr",
        "outputId": "73d694e1-7df7-421c-dfeb-811e19085728"
      },
      "source": [
        "pivot_per_ad_events.head()"
      ],
      "execution_count": 8,
      "outputs": [
        {
          "output_type": "execute_result",
          "data": {
            "text/html": [
              "<div>\n",
              "<style scoped>\n",
              "    .dataframe tbody tr th:only-of-type {\n",
              "        vertical-align: middle;\n",
              "    }\n",
              "\n",
              "    .dataframe tbody tr th {\n",
              "        vertical-align: top;\n",
              "    }\n",
              "\n",
              "    .dataframe thead th {\n",
              "        text-align: right;\n",
              "    }\n",
              "</style>\n",
              "<table border=\"1\" class=\"dataframe\">\n",
              "  <thead>\n",
              "    <tr style=\"text-align: right;\">\n",
              "      <th>event</th>\n",
              "      <th>click</th>\n",
              "      <th>view</th>\n",
              "    </tr>\n",
              "    <tr>\n",
              "      <th>ad_id</th>\n",
              "      <th></th>\n",
              "      <th></th>\n",
              "    </tr>\n",
              "  </thead>\n",
              "  <tbody>\n",
              "    <tr>\n",
              "      <th>2.0</th>\n",
              "      <td>1.0</td>\n",
              "      <td>101.0</td>\n",
              "    </tr>\n",
              "    <tr>\n",
              "      <th>3.0</th>\n",
              "      <td>3.0</td>\n",
              "      <td>184.0</td>\n",
              "    </tr>\n",
              "    <tr>\n",
              "      <th>1902.0</th>\n",
              "      <td>1.0</td>\n",
              "      <td>41.0</td>\n",
              "    </tr>\n",
              "    <tr>\n",
              "      <th>2064.0</th>\n",
              "      <td>0.0</td>\n",
              "      <td>35.0</td>\n",
              "    </tr>\n",
              "    <tr>\n",
              "      <th>2132.0</th>\n",
              "      <td>1.0</td>\n",
              "      <td>53.0</td>\n",
              "    </tr>\n",
              "  </tbody>\n",
              "</table>\n",
              "</div>"
            ],
            "text/plain": [
              "event   click   view\n",
              "ad_id               \n",
              "2.0       1.0  101.0\n",
              "3.0       3.0  184.0\n",
              "1902.0    1.0   41.0\n",
              "2064.0    0.0   35.0\n",
              "2132.0    1.0   53.0"
            ]
          },
          "metadata": {},
          "execution_count": 8
        }
      ]
    },
    {
      "cell_type": "code",
      "metadata": {
        "colab": {
          "base_uri": "https://localhost:8080/"
        },
        "id": "888x6HVdyJdM",
        "outputId": "b97c0bdb-5f73-4b71-99d7-f8bdf1d491f3"
      },
      "source": [
        "pivot_per_ad_events.mean().round(0)"
      ],
      "execution_count": 9,
      "outputs": [
        {
          "output_type": "execute_result",
          "data": {
            "text/plain": [
              "event\n",
              "click     72.0\n",
              "view     690.0\n",
              "dtype: float64"
            ]
          },
          "metadata": {},
          "execution_count": 9
        }
      ]
    },
    {
      "cell_type": "markdown",
      "metadata": {
        "id": "jLJ-TCeyzlfN"
      },
      "source": [
        "Нарисуйте график распределения показов на объявление за весь период."
      ]
    },
    {
      "cell_type": "code",
      "metadata": {
        "id": "TkDAS_b5yJns"
      },
      "source": [
        "views_per_ad = number_per_ad_per_event.query('event == \"view\"')"
      ],
      "execution_count": 10,
      "outputs": []
    },
    {
      "cell_type": "code",
      "metadata": {
        "colab": {
          "base_uri": "https://localhost:8080/"
        },
        "id": "VAUe8GJQ3D0w",
        "outputId": "395d6b88-45b9-4004-fe06-ece7cddb37c8"
      },
      "source": [
        "views_per_ad['log_views']= np.log(views_per_ad.event_number)"
      ],
      "execution_count": 11,
      "outputs": [
        {
          "output_type": "stream",
          "text": [
            "/usr/local/lib/python3.7/dist-packages/ipykernel_launcher.py:1: SettingWithCopyWarning: \n",
            "A value is trying to be set on a copy of a slice from a DataFrame.\n",
            "Try using .loc[row_indexer,col_indexer] = value instead\n",
            "\n",
            "See the caveats in the documentation: https://pandas.pydata.org/pandas-docs/stable/user_guide/indexing.html#returning-a-view-versus-a-copy\n",
            "  \"\"\"Entry point for launching an IPython kernel.\n"
          ],
          "name": "stderr"
        }
      ]
    },
    {
      "cell_type": "code",
      "metadata": {
        "id": "baV9LrOp5zib"
      },
      "source": [
        "sns.set(\n",
        "    font_scale = 2,\n",
        "    style = 'whitegrid',\n",
        "    rc= {'figure.figsize': (20,12)}\n",
        ")"
      ],
      "execution_count": 12,
      "outputs": []
    },
    {
      "cell_type": "code",
      "metadata": {
        "colab": {
          "base_uri": "https://localhost:8080/",
          "height": 339
        },
        "id": "DbCUwvEOyJvn",
        "outputId": "fb07b509-9323-41e8-8789-867f6e12159d"
      },
      "source": [
        "sns.displot(views_per_ad.log_views);"
      ],
      "execution_count": 13,
      "outputs": [
        {
          "output_type": "display_data",
          "data": {
            "image/png": "[encoded data removed]",
            "text/plain": [
              "<Figure size 360x360 with 1 Axes>"
            ]
          },
          "metadata": {}
        }
      ]
    },
    {
      "cell_type": "markdown",
      "metadata": {
        "id": "Rvd9_bGb5wj9"
      },
      "source": [
        "А теперь давайте посчитаем скользящее среднее показов с окном 2. Какое значение скользящего среднего получим за 6 апреля 2019 года (ответ округлите до целых)?"
      ]
    },
    {
      "cell_type": "code",
      "metadata": {
        "id": "wqmClEeA3D_T"
      },
      "source": [
        "ads_view_per_day = ads_data.query('event == \"view\"')\\\n",
        "                        .pivot_table(index = 'ad_id',\n",
        "                                    columns = 'date',\n",
        "                                    values = 'time',\n",
        "                                    aggfunc = 'count')"
      ],
      "execution_count": 14,
      "outputs": []
    },
    {
      "cell_type": "code",
      "metadata": {
        "id": "a1NTSqF_3EL9"
      },
      "source": [
        "mean_views = ads_view_per_day.mean()"
      ],
      "execution_count": 15,
      "outputs": []
    },
    {
      "cell_type": "code",
      "metadata": {
        "id": "bNlB4Kkd3ET3"
      },
      "source": [
        "rolling_views = ads_view_per_day.mean().rolling(2).mean()"
      ],
      "execution_count": 16,
      "outputs": []
    },
    {
      "cell_type": "code",
      "metadata": {
        "id": "oQDENjyig9Rm",
        "colab": {
          "base_uri": "https://localhost:8080/"
        },
        "outputId": "0c412a6c-9997-4166-adda-32f53b88c805"
      },
      "source": [
        "rolling_views['2019-04-05'].round()"
      ],
      "execution_count": 17,
      "outputs": [
        {
          "output_type": "execute_result",
          "data": {
            "text/plain": [
              "611.0"
            ]
          },
          "metadata": {},
          "execution_count": 17
        }
      ]
    },
    {
      "cell_type": "markdown",
      "metadata": {
        "id": "C_AMcdxDq-qI"
      },
      "source": [
        "*Теперь подгрузим данные по рекламным клиентам и найдем среднее количество дней от даты создания рекламного клиента и первым запуском рекламного объявления этим клиентом."
      ]
    },
    {
      "cell_type": "code",
      "metadata": {
        "colab": {
          "base_uri": "https://localhost:8080/",
          "height": 289
        },
        "id": "niDEM6zirB9F",
        "outputId": "fa57045c-dd7c-4b33-edc8-8ab0cc6351b5"
      },
      "source": [
        "full_data = ads_data.merge(ads_clients.drop(columns= ['date', 'community_id']))\n",
        "full_data.head()"
      ],
      "execution_count": 18,
      "outputs": [
        {
          "output_type": "execute_result",
          "data": {
            "text/html": [
              "<div>\n",
              "<style scoped>\n",
              "    .dataframe tbody tr th:only-of-type {\n",
              "        vertical-align: middle;\n",
              "    }\n",
              "\n",
              "    .dataframe tbody tr th {\n",
              "        vertical-align: top;\n",
              "    }\n",
              "\n",
              "    .dataframe thead th {\n",
              "        text-align: right;\n",
              "    }\n",
              "</style>\n",
              "<table border=\"1\" class=\"dataframe\">\n",
              "  <thead>\n",
              "    <tr style=\"text-align: right;\">\n",
              "      <th></th>\n",
              "      <th>date</th>\n",
              "      <th>time</th>\n",
              "      <th>event</th>\n",
              "      <th>platform</th>\n",
              "      <th>ad_id</th>\n",
              "      <th>client_union_id</th>\n",
              "      <th>campaign_union_id</th>\n",
              "      <th>ad_cost_type</th>\n",
              "      <th>ad_cost</th>\n",
              "      <th>has_video</th>\n",
              "      <th>target_audience_count</th>\n",
              "      <th>create_date</th>\n",
              "    </tr>\n",
              "  </thead>\n",
              "  <tbody>\n",
              "    <tr>\n",
              "      <th>0</th>\n",
              "      <td>2019-04-01</td>\n",
              "      <td>2019-04-01 00:00:48</td>\n",
              "      <td>view</td>\n",
              "      <td>android</td>\n",
              "      <td>45061.0</td>\n",
              "      <td>34734.0</td>\n",
              "      <td>45061.0</td>\n",
              "      <td>CPM</td>\n",
              "      <td>200.6</td>\n",
              "      <td>0.0</td>\n",
              "      <td>1955269.0</td>\n",
              "      <td>2018-12-04</td>\n",
              "    </tr>\n",
              "    <tr>\n",
              "      <th>1</th>\n",
              "      <td>2019-04-01</td>\n",
              "      <td>2019-04-01 00:03:28</td>\n",
              "      <td>view</td>\n",
              "      <td>android</td>\n",
              "      <td>45061.0</td>\n",
              "      <td>34734.0</td>\n",
              "      <td>45061.0</td>\n",
              "      <td>CPM</td>\n",
              "      <td>200.6</td>\n",
              "      <td>0.0</td>\n",
              "      <td>1955269.0</td>\n",
              "      <td>2018-12-04</td>\n",
              "    </tr>\n",
              "    <tr>\n",
              "      <th>2</th>\n",
              "      <td>2019-04-01</td>\n",
              "      <td>2019-04-01 00:04:58</td>\n",
              "      <td>view</td>\n",
              "      <td>ios</td>\n",
              "      <td>45061.0</td>\n",
              "      <td>34734.0</td>\n",
              "      <td>45061.0</td>\n",
              "      <td>CPM</td>\n",
              "      <td>200.6</td>\n",
              "      <td>0.0</td>\n",
              "      <td>1955269.0</td>\n",
              "      <td>2018-12-04</td>\n",
              "    </tr>\n",
              "    <tr>\n",
              "      <th>3</th>\n",
              "      <td>2019-04-01</td>\n",
              "      <td>2019-04-01 00:10:23</td>\n",
              "      <td>view</td>\n",
              "      <td>ios</td>\n",
              "      <td>45061.0</td>\n",
              "      <td>34734.0</td>\n",
              "      <td>45061.0</td>\n",
              "      <td>CPM</td>\n",
              "      <td>200.6</td>\n",
              "      <td>0.0</td>\n",
              "      <td>1955269.0</td>\n",
              "      <td>2018-12-04</td>\n",
              "    </tr>\n",
              "    <tr>\n",
              "      <th>4</th>\n",
              "      <td>2019-04-01</td>\n",
              "      <td>2019-04-01 00:15:42</td>\n",
              "      <td>view</td>\n",
              "      <td>android</td>\n",
              "      <td>45061.0</td>\n",
              "      <td>34734.0</td>\n",
              "      <td>45061.0</td>\n",
              "      <td>CPM</td>\n",
              "      <td>200.6</td>\n",
              "      <td>0.0</td>\n",
              "      <td>1955269.0</td>\n",
              "      <td>2018-12-04</td>\n",
              "    </tr>\n",
              "  </tbody>\n",
              "</table>\n",
              "</div>"
            ],
            "text/plain": [
              "         date                 time  ... target_audience_count create_date\n",
              "0  2019-04-01  2019-04-01 00:00:48  ...             1955269.0  2018-12-04\n",
              "1  2019-04-01  2019-04-01 00:03:28  ...             1955269.0  2018-12-04\n",
              "2  2019-04-01  2019-04-01 00:04:58  ...             1955269.0  2018-12-04\n",
              "3  2019-04-01  2019-04-01 00:10:23  ...             1955269.0  2018-12-04\n",
              "4  2019-04-01  2019-04-01 00:15:42  ...             1955269.0  2018-12-04\n",
              "\n",
              "[5 rows x 12 columns]"
            ]
          },
          "metadata": {},
          "execution_count": 18
        }
      ]
    },
    {
      "cell_type": "code",
      "metadata": {
        "id": "_Fn51qF-uRkZ"
      },
      "source": [
        "full_data[['date', 'create_date']] = full_data[['date', 'create_date']].apply(pd.to_datetime)"
      ],
      "execution_count": 19,
      "outputs": []
    },
    {
      "cell_type": "code",
      "metadata": {
        "colab": {
          "base_uri": "https://localhost:8080/"
        },
        "id": "PzKel-9ZrCKt",
        "outputId": "1950a0bc-4fbb-4c8e-b4e9-2773113a5b4d"
      },
      "source": [
        "full_data.groupby('client_union_id').apply(lambda group: group.date-group.create_date).mean()"
      ],
      "execution_count": 20,
      "outputs": [
        {
          "output_type": "execute_result",
          "data": {
            "text/plain": [
              "Timedelta('109 days 05:04:47.154476728')"
            ]
          },
          "metadata": {},
          "execution_count": 20
        }
      ]
    },
    {
      "cell_type": "markdown",
      "metadata": {
        "id": "xJi2lr5Ixhsr"
      },
      "source": [
        "*Вычислите конверсию из создания рекламного клиента в запуск первой рекламы в течение не более 365 дней. Ответ дайте в процентах и округлите до сотых. (Фильтровать нужно по значению в формате pd.Timedelta(365, unit='d'))\n"
      ]
    },
    {
      "cell_type": "code",
      "metadata": {
        "id": "zaVitz2TrCS4"
      },
      "source": [
        "def find_minimum_diff(group):\n",
        "  diff = group.date-group.create_date\n",
        "  return diff.min()"
      ],
      "execution_count": 21,
      "outputs": []
    },
    {
      "cell_type": "markdown",
      "metadata": {
        "id": "ZpSo1ZPGyU_S"
      },
      "source": [
        "Данные о разнице между временем времени создания кабинетов и первого запуска рекламы"
      ]
    },
    {
      "cell_type": "code",
      "metadata": {
        "id": "6N2n9H6krCb3"
      },
      "source": [
        "creation_difference = full_data.groupby('client_union_id').apply(find_minimum_diff)"
      ],
      "execution_count": 22,
      "outputs": []
    },
    {
      "cell_type": "markdown",
      "metadata": {
        "id": "2FOerTdTyLXO"
      },
      "source": [
        "Теперь нужно отобрать тех клиентов, у которых разница меньше 365"
      ]
    },
    {
      "cell_type": "code",
      "metadata": {
        "colab": {
          "base_uri": "https://localhost:8080/"
        },
        "id": "EMWyCxEeyBKv",
        "outputId": "a1152d38-f294-4b25-dbae-49adb9750684"
      },
      "source": [
        "threshold = pd.to_timedelta(365, unit ='d')\n",
        "threshold"
      ],
      "execution_count": 23,
      "outputs": [
        {
          "output_type": "execute_result",
          "data": {
            "text/plain": [
              "Timedelta('365 days 00:00:00')"
            ]
          },
          "metadata": {},
          "execution_count": 23
        }
      ]
    },
    {
      "cell_type": "code",
      "metadata": {
        "id": "xJ2OSgOjyBVO"
      },
      "source": [
        "creation_difference = creation_difference.loc[creation_difference < threshold]"
      ],
      "execution_count": 24,
      "outputs": []
    },
    {
      "cell_type": "code",
      "metadata": {
        "colab": {
          "base_uri": "https://localhost:8080/"
        },
        "id": "MJf3RqUcyBhc",
        "outputId": "231de551-1bbd-4598-bedd-d7a8957364fd"
      },
      "source": [
        "round(creation_difference.shape[0]/ ads_clients.client_union_id.nunique() *100, 2)"
      ],
      "execution_count": 25,
      "outputs": [
        {
          "output_type": "execute_result",
          "data": {
            "text/plain": [
              "0.69"
            ]
          },
          "metadata": {},
          "execution_count": 25
        }
      ]
    },
    {
      "cell_type": "markdown",
      "metadata": {
        "id": "pWkDPyDc16vj"
      },
      "source": [
        "*Давайте разобъем наших клиентов по промежуткам от создания до запуска рекламного объявления, равным 30. Определите, сколько уникальных клиентов запустили свое первое объявление в первый месяц своего существования (от 0 до 30 дней). Список промежутков для метода pd.cut – [0, 30, 90, 180, 365]"
      ]
    },
    {
      "cell_type": "code",
      "metadata": {
        "id": "RhovFaEpyBqM"
      },
      "source": [
        "bins = pd.to_timedelta([0, 30, 90, 180, 365], unit='d')"
      ],
      "execution_count": 28,
      "outputs": []
    },
    {
      "cell_type": "code",
      "metadata": {
        "id": "BsgqUEOHx9te"
      },
      "source": [
        "creation_difference_groups = pd.cut(creation_difference, bins, labels=['0-30', '30-90', '90-180', '180-365'])"
      ],
      "execution_count": 33,
      "outputs": []
    },
    {
      "cell_type": "code",
      "metadata": {
        "id": "TdsPK-VayBx_",
        "colab": {
          "base_uri": "https://localhost:8080/"
        },
        "outputId": "e5ef76f4-25de-4c64-ff46-93315352ba80"
      },
      "source": [
        "creation_difference_groups.value_counts()"
      ],
      "execution_count": 45,
      "outputs": [
        {
          "output_type": "execute_result",
          "data": {
            "text/plain": [
              "90-180     396\n",
              "30-90      263\n",
              "180-365    168\n",
              "0-30        11\n",
              "dtype: int64"
            ]
          },
          "metadata": {},
          "execution_count": 45
        }
      ]
    },
    {
      "cell_type": "markdown",
      "metadata": {
        "id": "__AJ8obXxcFV"
      },
      "source": [
        "*А теперь давайте выведем на интерактивный график эти категории с количеством уникальных клиентов в них."
      ]
    },
    {
      "cell_type": "code",
      "metadata": {
        "id": "GQ9ijm25xeaj"
      },
      "source": [
        "import plotly.express as px"
      ],
      "execution_count": 32,
      "outputs": []
    },
    {
      "cell_type": "code",
      "metadata": {
        "id": "ZOeKs-qvx6KP"
      },
      "source": [
        "px.bar(creation_difference_groups.value_counts())"
      ],
      "execution_count": null,
      "outputs": []
    },
    {
      "cell_type": "code",
      "metadata": {
        "id": "lYxHg5F3x6lB"
      },
      "source": [
        ""
      ],
      "execution_count": null,
      "outputs": []
    }
  ]
}