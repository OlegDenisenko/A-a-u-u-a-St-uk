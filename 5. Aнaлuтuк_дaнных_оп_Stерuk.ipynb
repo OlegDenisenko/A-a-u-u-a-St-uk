{
  "nbformat": 4,
  "nbformat_minor": 0,
  "metadata": {
    "colab": {
      "name": "Untitled14.ipynb",
      "provenance": [],
      "authorship_tag": "ABX9TyNi3pNwnyYVD6l3BUMbUzMU",
      "include_colab_link": true
    },
    "kernelspec": {
      "name": "python3",
      "display_name": "Python 3"
    },
    "language_info": {
      "name": "python"
    }
  },
  "cells": [
    {
      "cell_type": "markdown",
      "metadata": {
        "id": "view-in-github",
        "colab_type": "text"
      },
      "source": [
        "<a href=\"https://colab.research.google.com/github/OlegDenisenko/Data-analyst-Step1k/blob/main/5.%20A%D0%BDa%D0%BBu%D1%82u%D0%BA_%D0%B4a%D0%BD%D0%BD%D1%8B%D1%85_%D0%BE%D0%BF_St%D0%B5%D1%80uk.ipynb\" target=\"_parent\"><img src=\"https://colab.research.google.com/assets/colab-badge.svg\" alt=\"Open In Colab\"/></a>"
      ]
    },
    {
      "cell_type": "markdown",
      "metadata": {
        "id": "tlnydEM21Url"
      },
      "source": [
        "**Следующий минипроект :)**"
      ]
    },
    {
      "cell_type": "code",
      "metadata": {
        "id": "c98v6-9Gm83r"
      },
      "source": [
        "import pandas as pd\n",
        "transaction = pd.read_csv('https://stepik.org/media/attachments/lesson/361624/transaction_data.csv')#"
      ],
      "execution_count": 2,
      "outputs": []
    },
    {
      "cell_type": "markdown",
      "metadata": {
        "id": "w1yc5vY2Hs3s"
      },
      "source": [
        "1) Загрузите датасет transaction_data.csv. Проверьте размер таблицы, типы переменных, число пропущенных значений и описательную статистику.\n",
        "\n",
        "Какие значения находятся в колонке transaction? Сколько наблюдений относятся к тому или иному уровню? Визуализируйте результат с помощью барплота. Подумайте, как можно улучшить график"
      ]
    },
    {
      "cell_type": "code",
      "metadata": {
        "colab": {
          "base_uri": "https://localhost:8080/",
          "height": 111
        },
        "id": "C8-qM_GtFqGP",
        "outputId": "e55b712d-e922-4e74-caac-27d755dd5fcb"
      },
      "source": [
        "transaction.head(2)"
      ],
      "execution_count": 3,
      "outputs": [
        {
          "output_type": "execute_result",
          "data": {
            "text/html": [
              "<div>\n",
              "<style scoped>\n",
              "    .dataframe tbody tr th:only-of-type {\n",
              "        vertical-align: middle;\n",
              "    }\n",
              "\n",
              "    .dataframe tbody tr th {\n",
              "        vertical-align: top;\n",
              "    }\n",
              "\n",
              "    .dataframe thead th {\n",
              "        text-align: right;\n",
              "    }\n",
              "</style>\n",
              "<table border=\"1\" class=\"dataframe\">\n",
              "  <thead>\n",
              "    <tr style=\"text-align: right;\">\n",
              "      <th></th>\n",
              "      <th>date</th>\n",
              "      <th>name</th>\n",
              "      <th>transaction</th>\n",
              "    </tr>\n",
              "  </thead>\n",
              "  <tbody>\n",
              "    <tr>\n",
              "      <th>0</th>\n",
              "      <td>2020-03-02 00:37:20</td>\n",
              "      <td>Ekaterina_Petrova</td>\n",
              "      <td>cancelled</td>\n",
              "    </tr>\n",
              "    <tr>\n",
              "      <th>1</th>\n",
              "      <td>2020-03-02 00:59:09</td>\n",
              "      <td>Irina_Fedorova</td>\n",
              "      <td>successfull</td>\n",
              "    </tr>\n",
              "  </tbody>\n",
              "</table>\n",
              "</div>"
            ],
            "text/plain": [
              "                  date               name  transaction\n",
              "0  2020-03-02 00:37:20  Ekaterina_Petrova    cancelled\n",
              "1  2020-03-02 00:59:09     Irina_Fedorova  successfull"
            ]
          },
          "metadata": {
            "tags": []
          },
          "execution_count": 3
        }
      ]
    },
    {
      "cell_type": "code",
      "metadata": {
        "colab": {
          "base_uri": "https://localhost:8080/"
        },
        "id": "U6YZNVn_G8yt",
        "outputId": "b3f788df-8ac4-4e85-a75c-a830fcd78423"
      },
      "source": [
        "transaction.shape"
      ],
      "execution_count": 4,
      "outputs": [
        {
          "output_type": "execute_result",
          "data": {
            "text/plain": [
              "(5315, 3)"
            ]
          },
          "metadata": {
            "tags": []
          },
          "execution_count": 4
        }
      ]
    },
    {
      "cell_type": "code",
      "metadata": {
        "id": "teTtbcaHM636",
        "colab": {
          "base_uri": "https://localhost:8080/"
        },
        "outputId": "4ef28f33-ce07-4fbf-a755-eda9be5d5655"
      },
      "source": [
        "transaction.dtypes"
      ],
      "execution_count": 10,
      "outputs": [
        {
          "output_type": "execute_result",
          "data": {
            "text/plain": [
              "date           object\n",
              "name           object\n",
              "transaction    object\n",
              "dtype: object"
            ]
          },
          "metadata": {
            "tags": []
          },
          "execution_count": 10
        }
      ]
    },
    {
      "cell_type": "code",
      "metadata": {
        "colab": {
          "base_uri": "https://localhost:8080/",
          "height": 173
        },
        "id": "JRt8P7GwHP31",
        "outputId": "f2157c89-8a66-4f34-fd15-478432d9cc9b"
      },
      "source": [
        "transaction.describe()"
      ],
      "execution_count": 8,
      "outputs": [
        {
          "output_type": "execute_result",
          "data": {
            "text/html": [
              "<div>\n",
              "<style scoped>\n",
              "    .dataframe tbody tr th:only-of-type {\n",
              "        vertical-align: middle;\n",
              "    }\n",
              "\n",
              "    .dataframe tbody tr th {\n",
              "        vertical-align: top;\n",
              "    }\n",
              "\n",
              "    .dataframe thead th {\n",
              "        text-align: right;\n",
              "    }\n",
              "</style>\n",
              "<table border=\"1\" class=\"dataframe\">\n",
              "  <thead>\n",
              "    <tr style=\"text-align: right;\">\n",
              "      <th></th>\n",
              "      <th>date</th>\n",
              "      <th>name</th>\n",
              "      <th>transaction</th>\n",
              "    </tr>\n",
              "  </thead>\n",
              "  <tbody>\n",
              "    <tr>\n",
              "      <th>count</th>\n",
              "      <td>5315</td>\n",
              "      <td>5315</td>\n",
              "      <td>5315</td>\n",
              "    </tr>\n",
              "    <tr>\n",
              "      <th>unique</th>\n",
              "      <td>3373</td>\n",
              "      <td>56</td>\n",
              "      <td>3</td>\n",
              "    </tr>\n",
              "    <tr>\n",
              "      <th>top</th>\n",
              "      <td>2020-03-02 00:35:03</td>\n",
              "      <td>Masha_Ozerova</td>\n",
              "      <td>successfull</td>\n",
              "    </tr>\n",
              "    <tr>\n",
              "      <th>freq</th>\n",
              "      <td>6</td>\n",
              "      <td>112</td>\n",
              "      <td>3692</td>\n",
              "    </tr>\n",
              "  </tbody>\n",
              "</table>\n",
              "</div>"
            ],
            "text/plain": [
              "                       date           name  transaction\n",
              "count                  5315           5315         5315\n",
              "unique                 3373             56            3\n",
              "top     2020-03-02 00:35:03  Masha_Ozerova  successfull\n",
              "freq                      6            112         3692"
            ]
          },
          "metadata": {
            "tags": []
          },
          "execution_count": 8
        }
      ]
    },
    {
      "cell_type": "code",
      "metadata": {
        "colab": {
          "base_uri": "https://localhost:8080/"
        },
        "id": "jqmvNk__MlXQ",
        "outputId": "ce8a30ad-3a76-487c-da30-5ceeb1d1350f"
      },
      "source": [
        "na_number = transaction.isna().sum()\n",
        "na_number"
      ],
      "execution_count": 7,
      "outputs": [
        {
          "output_type": "execute_result",
          "data": {
            "text/plain": [
              "date           0\n",
              "name           0\n",
              "transaction    0\n",
              "dtype: int64"
            ]
          },
          "metadata": {
            "tags": []
          },
          "execution_count": 7
        }
      ]
    },
    {
      "cell_type": "code",
      "metadata": {
        "colab": {
          "base_uri": "https://localhost:8080/"
        },
        "id": "mNleb-o6c4qG",
        "outputId": "7fd3238d-dd92-43fd-8636-4a408fbff2e1"
      },
      "source": [
        "transaction.transaction.value_counts()"
      ],
      "execution_count": 11,
      "outputs": [
        {
          "output_type": "execute_result",
          "data": {
            "text/plain": [
              "successfull    3692\n",
              "cancelled      1619\n",
              "error             4\n",
              "Name: transaction, dtype: int64"
            ]
          },
          "metadata": {
            "tags": []
          },
          "execution_count": 11
        }
      ]
    },
    {
      "cell_type": "code",
      "metadata": {
        "id": "5x2pNoAAfSNm"
      },
      "source": [
        "import seaborn as sns"
      ],
      "execution_count": 12,
      "outputs": []
    },
    {
      "cell_type": "code",
      "metadata": {
        "colab": {
          "base_uri": "https://localhost:8080/",
          "height": 265
        },
        "id": "69tMxTjmfe70",
        "outputId": "10dfa0bf-f55a-46d8-cfc2-3a32ebd64716"
      },
      "source": [
        "for_barplot = transaction.transaction.value_counts()\n",
        "sns.barplot(x= for_barplot.index, y= for_barplot);"
      ],
      "execution_count": 15,
      "outputs": [
        {
          "output_type": "display_data",
          "data": {
            "image/png": "[encoded data removed]",
            "text/plain": [
              "<Figure size 432x288 with 1 Axes>"
            ]
          },
          "metadata": {
            "tags": [],
            "needs_background": "light"
          }
        }
      ]
    },
    {
      "cell_type": "markdown",
      "metadata": {
        "id": "IsfPMEWQIBmg"
      },
      "source": [
        "2) Сколько успешных транзакций осуществил каждый из пользователей? Постройте гистограмму распределения числа успешных транзакций.\n"
      ]
    },
    {
      "cell_type": "code",
      "metadata": {
        "id": "fF34Owsjc4xZ"
      },
      "source": [
        "transactions_per_user = transaction\\\n",
        "                                    .query('transaction == \"successfull\"')\\\n",
        "                                    .groupby('name')\\\n",
        "                                    .agg({'transaction': 'count'})"
      ],
      "execution_count": 16,
      "outputs": []
    },
    {
      "cell_type": "code",
      "metadata": {
        "colab": {
          "base_uri": "https://localhost:8080/",
          "height": 369
        },
        "id": "n2P592pcc45I",
        "outputId": "c2abf386-597d-488a-d09d-26b265bc8d37"
      },
      "source": [
        "sns.displot(transactions_per_user);"
      ],
      "execution_count": 19,
      "outputs": [
        {
          "output_type": "display_data",
          "data": {
            "image/png": "[encoded data removed]",
            "text/plain": [
              "<Figure size 452.5x360 with 1 Axes>"
            ]
          },
          "metadata": {
            "tags": [],
            "needs_background": "light"
          }
        }
      ]
    },
    {
      "cell_type": "markdown",
      "metadata": {
        "id": "Yor2ROK-qkD-"
      },
      "source": [
        "3)Коллега прислал Вам обновленные данные. (transaction_data_updated.csv)\n",
        "Постройте сводную таблицу user_vs_minute_pivot, где в качестве столбцов будут использованы имена пользователей, строк – минуты, значений – число совершенных операций в указанную минуту. Пропущенные значения заполните нулями."
      ]
    },
    {
      "cell_type": "code",
      "metadata": {
        "colab": {
          "base_uri": "https://localhost:8080/",
          "height": 419
        },
        "id": "jy4PUIr1c4_j",
        "outputId": "63bad5e4-45c3-4840-958a-76f865bb6fff"
      },
      "source": [
        "new_transactions = pd.read_csv('https://stepik.org/media/attachments/lesson/361624/transaction_data_updated.csv')\n",
        "new_transactions"
      ],
      "execution_count": 20,
      "outputs": [
        {
          "output_type": "execute_result",
          "data": {
            "text/html": [
              "<div>\n",
              "<style scoped>\n",
              "    .dataframe tbody tr th:only-of-type {\n",
              "        vertical-align: middle;\n",
              "    }\n",
              "\n",
              "    .dataframe tbody tr th {\n",
              "        vertical-align: top;\n",
              "    }\n",
              "\n",
              "    .dataframe thead th {\n",
              "        text-align: right;\n",
              "    }\n",
              "</style>\n",
              "<table border=\"1\" class=\"dataframe\">\n",
              "  <thead>\n",
              "    <tr style=\"text-align: right;\">\n",
              "      <th></th>\n",
              "      <th>date</th>\n",
              "      <th>name</th>\n",
              "      <th>transaction</th>\n",
              "      <th>minute</th>\n",
              "    </tr>\n",
              "  </thead>\n",
              "  <tbody>\n",
              "    <tr>\n",
              "      <th>0</th>\n",
              "      <td>2020-03-02 00:37:20</td>\n",
              "      <td>Ekaterina_Petrova</td>\n",
              "      <td>cancelled</td>\n",
              "      <td>37</td>\n",
              "    </tr>\n",
              "    <tr>\n",
              "      <th>1</th>\n",
              "      <td>2020-03-02 00:59:09</td>\n",
              "      <td>Irina_Fedorova</td>\n",
              "      <td>successfull</td>\n",
              "      <td>59</td>\n",
              "    </tr>\n",
              "    <tr>\n",
              "      <th>2</th>\n",
              "      <td>2020-03-02 01:06:14</td>\n",
              "      <td>Ekaterina_Smirnova</td>\n",
              "      <td>successfull</td>\n",
              "      <td>6</td>\n",
              "    </tr>\n",
              "    <tr>\n",
              "      <th>3</th>\n",
              "      <td>2020-03-02 00:02:58</td>\n",
              "      <td>Lolita_Polyanova</td>\n",
              "      <td>cancelled</td>\n",
              "      <td>2</td>\n",
              "    </tr>\n",
              "    <tr>\n",
              "      <th>4</th>\n",
              "      <td>2020-03-02 00:17:52</td>\n",
              "      <td>Julia_Smirnova</td>\n",
              "      <td>cancelled</td>\n",
              "      <td>17</td>\n",
              "    </tr>\n",
              "    <tr>\n",
              "      <th>...</th>\n",
              "      <td>...</td>\n",
              "      <td>...</td>\n",
              "      <td>...</td>\n",
              "      <td>...</td>\n",
              "    </tr>\n",
              "    <tr>\n",
              "      <th>5310</th>\n",
              "      <td>2020-03-02 00:09:28</td>\n",
              "      <td>Vasilisa_Fedorova</td>\n",
              "      <td>successfull</td>\n",
              "      <td>9</td>\n",
              "    </tr>\n",
              "    <tr>\n",
              "      <th>5311</th>\n",
              "      <td>2020-03-02 00:46:31</td>\n",
              "      <td>Vasilisa_Ozerova</td>\n",
              "      <td>successfull</td>\n",
              "      <td>46</td>\n",
              "    </tr>\n",
              "    <tr>\n",
              "      <th>5312</th>\n",
              "      <td>2020-03-02 00:16:38</td>\n",
              "      <td>Olga_Polyanova</td>\n",
              "      <td>successfull</td>\n",
              "      <td>16</td>\n",
              "    </tr>\n",
              "    <tr>\n",
              "      <th>5313</th>\n",
              "      <td>2020-03-02 00:13:00</td>\n",
              "      <td>Ekaterina_Smirnova</td>\n",
              "      <td>successfull</td>\n",
              "      <td>13</td>\n",
              "    </tr>\n",
              "    <tr>\n",
              "      <th>5314</th>\n",
              "      <td>2020-03-02 01:15:45</td>\n",
              "      <td>Irina_Fedorova</td>\n",
              "      <td>cancelled</td>\n",
              "      <td>15</td>\n",
              "    </tr>\n",
              "  </tbody>\n",
              "</table>\n",
              "<p>5315 rows × 4 columns</p>\n",
              "</div>"
            ],
            "text/plain": [
              "                     date                name  transaction  minute\n",
              "0     2020-03-02 00:37:20   Ekaterina_Petrova    cancelled      37\n",
              "1     2020-03-02 00:59:09      Irina_Fedorova  successfull      59\n",
              "2     2020-03-02 01:06:14  Ekaterina_Smirnova  successfull       6\n",
              "3     2020-03-02 00:02:58    Lolita_Polyanova    cancelled       2\n",
              "4     2020-03-02 00:17:52      Julia_Smirnova    cancelled      17\n",
              "...                   ...                 ...          ...     ...\n",
              "5310  2020-03-02 00:09:28   Vasilisa_Fedorova  successfull       9\n",
              "5311  2020-03-02 00:46:31    Vasilisa_Ozerova  successfull      46\n",
              "5312  2020-03-02 00:16:38      Olga_Polyanova  successfull      16\n",
              "5313  2020-03-02 00:13:00  Ekaterina_Smirnova  successfull      13\n",
              "5314  2020-03-02 01:15:45      Irina_Fedorova    cancelled      15\n",
              "\n",
              "[5315 rows x 4 columns]"
            ]
          },
          "metadata": {
            "tags": []
          },
          "execution_count": 20
        }
      ]
    },
    {
      "cell_type": "code",
      "metadata": {
        "id": "hSz7LcB3c5Hk"
      },
      "source": [
        "transaction_number = new_transactions.groupby(['name', 'minute'], as_index= False)\\\n",
        "                                      .agg({'transaction': 'count'})\\\n",
        "                                      .rename(columns={'transaction' : 'transaction_number'})"
      ],
      "execution_count": 23,
      "outputs": []
    },
    {
      "cell_type": "code",
      "metadata": {
        "id": "3utbEVwXohov"
      },
      "source": [
        "user_vs_minute_pivot = new_transactions.pivot_table(index = 'minute', \n",
        "                                                    columns = 'name',\n",
        "                                                    values='transaction', \n",
        "                                                    aggfunc='count')"
      ],
      "execution_count": 27,
      "outputs": []
    },
    {
      "cell_type": "code",
      "metadata": {
        "id": "8GuXGGOLqUl6"
      },
      "source": [
        "user_vs_minute_pivot.fillna(0, inplace=True)"
      ],
      "execution_count": 28,
      "outputs": []
    },
    {
      "cell_type": "code",
      "metadata": {
        "colab": {
          "base_uri": "https://localhost:8080/",
          "height": 517
        },
        "id": "2EVzgH-_rAow",
        "outputId": "08789421-c4a0-4b3a-8cfc-fd42e3d9485e"
      },
      "source": [
        "user_vs_minute_pivot.sum(axis=1).plot.bar(figsize =(12,8))"
      ],
      "execution_count": 30,
      "outputs": [
        {
          "output_type": "execute_result",
          "data": {
            "text/plain": [
              "<matplotlib.axes._subplots.AxesSubplot at 0x7f9c949fd1d0>"
            ]
          },
          "metadata": {
            "tags": []
          },
          "execution_count": 30
        },
        {
          "output_type": "display_data",
          "data": {
            "image/png": "[encoded data removed]",
            "text/plain": [
              "<Figure size 864x576 with 1 Axes>"
            ]
          },
          "metadata": {
            "tags": [],
            "needs_background": "light"
          }
        }
      ]
    },
    {
      "cell_type": "markdown",
      "metadata": {
        "id": "RWgfQkagsvUq"
      },
      "source": [
        "Изучите представленный график. Помогите коллеге разобраться,  есть ли в данных ошибка, или же всё хорошо.\n",
        "Если в данные закралась ошибка, исправьте её и сохраните правильное число минут, прошедших с начала дня, в колонку true_minute."
      ]
    },
    {
      "cell_type": "code",
      "metadata": {
        "colab": {
          "base_uri": "https://localhost:8080/"
        },
        "id": "YSEkSKtwsnTf",
        "outputId": "0a7e032a-25ed-4971-f20e-c1b5f88eac80"
      },
      "source": [
        "new_transactions.dtypes"
      ],
      "execution_count": 31,
      "outputs": [
        {
          "output_type": "execute_result",
          "data": {
            "text/plain": [
              "date           object\n",
              "name           object\n",
              "transaction    object\n",
              "minute          int64\n",
              "dtype: object"
            ]
          },
          "metadata": {
            "tags": []
          },
          "execution_count": 31
        }
      ]
    },
    {
      "cell_type": "code",
      "metadata": {
        "id": "qv8LJ9Qlsnb-"
      },
      "source": [
        "new_transactions['date'] = pd.to_datetime(new_transactions.date)"
      ],
      "execution_count": 32,
      "outputs": []
    },
    {
      "cell_type": "code",
      "metadata": {
        "id": "HT65isF6snjZ"
      },
      "source": [
        "new_transactions['true_minute'] = new_transactions.date.dt.minute + new_transactions.date.dt.hour *60"
      ],
      "execution_count": 33,
      "outputs": []
    },
    {
      "cell_type": "code",
      "metadata": {
        "colab": {
          "base_uri": "https://localhost:8080/"
        },
        "id": "-3cZQ0Nksnsg",
        "outputId": "da377f62-3c79-47ff-8cff-eafaa77a2404"
      },
      "source": [
        "new_transactions['true_minute']"
      ],
      "execution_count": 34,
      "outputs": [
        {
          "output_type": "execute_result",
          "data": {
            "text/plain": [
              "0       37\n",
              "1       59\n",
              "2       66\n",
              "3        2\n",
              "4       17\n",
              "        ..\n",
              "5310     9\n",
              "5311    46\n",
              "5312    16\n",
              "5313    13\n",
              "5314    75\n",
              "Name: true_minute, Length: 5315, dtype: int64"
            ]
          },
          "metadata": {
            "tags": []
          },
          "execution_count": 34
        }
      ]
    },
    {
      "cell_type": "code",
      "metadata": {
        "colab": {
          "base_uri": "https://localhost:8080/",
          "height": 386
        },
        "id": "s9qb2dGRsn0V",
        "outputId": "50487c02-01e4-46d0-fb63-10d1d6857e95"
      },
      "source": [
        "sns.displot(new_transactions['true_minute'])"
      ],
      "execution_count": 36,
      "outputs": [
        {
          "output_type": "execute_result",
          "data": {
            "text/plain": [
              "<seaborn.axisgrid.FacetGrid at 0x7f9c901da2d0>"
            ]
          },
          "metadata": {
            "tags": []
          },
          "execution_count": 36
        },
        {
          "output_type": "display_data",
          "data": {
            "image/png": "[encoded data removed]",
            "text/plain": [
              "<Figure size 360x360 with 1 Axes>"
            ]
          },
          "metadata": {
            "tags": [],
            "needs_background": "light"
          }
        }
      ]
    },
    {
      "cell_type": "code",
      "metadata": {
        "id": "ETTFPfAlvJ04"
      },
      "source": [
        "import matplotlib.pyplot as plt"
      ],
      "execution_count": 38,
      "outputs": []
    },
    {
      "cell_type": "code",
      "metadata": {
        "colab": {
          "base_uri": "https://localhost:8080/",
          "height": 569
        },
        "id": "7Bf9ybjhsn8s",
        "outputId": "64c6bf25-2ed6-4580-c96b-2dfaa4a44acd"
      },
      "source": [
        "plt.figure(figsize = (12,8))\n",
        "sns.countplot(new_transactions['true_minute'])"
      ],
      "execution_count": 40,
      "outputs": [
        {
          "output_type": "stream",
          "text": [
            "/usr/local/lib/python3.7/dist-packages/seaborn/_decorators.py:43: FutureWarning: Pass the following variable as a keyword arg: x. From version 0.12, the only valid positional argument will be `data`, and passing other arguments without an explicit keyword will result in an error or misinterpretation.\n",
            "  FutureWarning\n"
          ],
          "name": "stderr"
        },
        {
          "output_type": "execute_result",
          "data": {
            "text/plain": [
              "<matplotlib.axes._subplots.AxesSubplot at 0x7f9c8f68e850>"
            ]
          },
          "metadata": {
            "tags": []
          },
          "execution_count": 40
        },
        {
          "output_type": "display_data",
          "data": {
            "image/png": "[encoded data removed]",
            "text/plain": [
              "<Figure size 864x576 with 1 Axes>"
            ]
          },
          "metadata": {
            "tags": [],
            "needs_background": "light"
          }
        }
      ]
    },
    {
      "cell_type": "markdown",
      "metadata": {
        "id": "WGL2PBAnv5sZ"
      },
      "source": [
        "**А вот и наш первый минипроект :)**"
      ]
    },
    {
      "cell_type": "code",
      "metadata": {
        "id": "7LZOWTvlv5sd"
      },
      "source": [
        "import pandas as pd\n",
        "import numpy as np\n",
        "taxi = pd.read_csv('https://stepik.org/media/attachments/lesson/362441/taxi_peru.csv', sep=';')#"
      ],
      "execution_count": null,
      "outputs": []
    },
    {
      "cell_type": "markdown",
      "metadata": {
        "id": "rhRvqehFv5sf"
      },
      "source": [
        "1) Сохраните данные, находящиеся в папке (taxi_peru.csv), в переменную taxi, разделитель – ;. Ваша задача положить в переменную  taxi_shape строку с информацией сколько линий и столбцов он имеет в следующем виде:\n",
        "'taxi has y rows and x columns'\n",
        "где y – число строк, а x – число колонок."
      ]
    },
    {
      "cell_type": "code",
      "metadata": {
        "colab": {
          "base_uri": "https://localhost:8080/",
          "height": 199
        },
        "id": "L_LEExUvv5sg",
        "outputId": "c5b397d0-d3f5-4e73-c48c-320c9377a7ff"
      },
      "source": [
        "taxi.head(2)"
      ],
      "execution_count": null,
      "outputs": [
        {
          "output_type": "execute_result",
          "data": {
            "text/html": [
              "<div>\n",
              "<style scoped>\n",
              "    .dataframe tbody tr th:only-of-type {\n",
              "        vertical-align: middle;\n",
              "    }\n",
              "\n",
              "    .dataframe tbody tr th {\n",
              "        vertical-align: top;\n",
              "    }\n",
              "\n",
              "    .dataframe thead th {\n",
              "        text-align: right;\n",
              "    }\n",
              "</style>\n",
              "<table border=\"1\" class=\"dataframe\">\n",
              "  <thead>\n",
              "    <tr style=\"text-align: right;\">\n",
              "      <th></th>\n",
              "      <th>journey_id</th>\n",
              "      <th>user_id</th>\n",
              "      <th>driver_id</th>\n",
              "      <th>taxi_id</th>\n",
              "      <th>icon</th>\n",
              "      <th>start_type</th>\n",
              "      <th>start_at</th>\n",
              "      <th>start_lat</th>\n",
              "      <th>start_lon</th>\n",
              "      <th>end_at</th>\n",
              "      <th>end_lat</th>\n",
              "      <th>end_lon</th>\n",
              "      <th>end_state</th>\n",
              "      <th>driver_start_lat</th>\n",
              "      <th>driver_start_lon</th>\n",
              "      <th>arrived_at</th>\n",
              "      <th>source</th>\n",
              "      <th>driver_score</th>\n",
              "      <th>rider_score</th>\n",
              "    </tr>\n",
              "  </thead>\n",
              "  <tbody>\n",
              "    <tr>\n",
              "      <th>0</th>\n",
              "      <td>23a1406fc6a11d866e3c82f22eed4d4c</td>\n",
              "      <td>0e9af5bbf1edfe591b54ecdfd7e91e26</td>\n",
              "      <td>583949a89a9ee17d19e3ca4f137b6b4c</td>\n",
              "      <td>b12f4f09c783e29fe0d0ea624530db56</td>\n",
              "      <td>executive</td>\n",
              "      <td>asap</td>\n",
              "      <td>2010-11-16 16:44:00</td>\n",
              "      <td>-12,13983536</td>\n",
              "      <td>-77,02355957</td>\n",
              "      <td>2010-11-16 17:29:00</td>\n",
              "      <td>-12,05537033</td>\n",
              "      <td>-77,0413208</td>\n",
              "      <td>drop off</td>\n",
              "      <td>-12,10825481</td>\n",
              "      <td>-77,0272739</td>\n",
              "      <td>2010-11-16 17:02:00</td>\n",
              "      <td>iPhone</td>\n",
              "      <td>5.0</td>\n",
              "      <td>5.0</td>\n",
              "    </tr>\n",
              "    <tr>\n",
              "      <th>1</th>\n",
              "      <td>dd2af4715d0dc16eded53afc0e243577</td>\n",
              "      <td>a553c46e3a22fb9c326aeb3d72b3334e</td>\n",
              "      <td>NaN</td>\n",
              "      <td>NaN</td>\n",
              "      <td>executive</td>\n",
              "      <td>asap</td>\n",
              "      <td>2010-06-01 00:34:00</td>\n",
              "      <td>-12,13874817</td>\n",
              "      <td>-76,99536133</td>\n",
              "      <td>2010-06-01 00:37:00</td>\n",
              "      <td>-12,12465668</td>\n",
              "      <td>-77,02886963</td>\n",
              "      <td>not found</td>\n",
              "      <td>NaN</td>\n",
              "      <td>NaN</td>\n",
              "      <td>NaN</td>\n",
              "      <td>iPhone</td>\n",
              "      <td>NaN</td>\n",
              "      <td>NaN</td>\n",
              "    </tr>\n",
              "  </tbody>\n",
              "</table>\n",
              "</div>"
            ],
            "text/plain": [
              "                         journey_id  ... rider_score\n",
              "0  23a1406fc6a11d866e3c82f22eed4d4c  ...         5.0\n",
              "1  dd2af4715d0dc16eded53afc0e243577  ...         NaN\n",
              "\n",
              "[2 rows x 19 columns]"
            ]
          },
          "metadata": {
            "tags": []
          },
          "execution_count": 9
        }
      ]
    },
    {
      "cell_type": "code",
      "metadata": {
        "colab": {
          "base_uri": "https://localhost:8080/"
        },
        "id": "PPOYXchfv5sk",
        "outputId": "a74beb8d-9982-4bc1-a4a5-e133d07b4481"
      },
      "source": [
        "taxi.shape"
      ],
      "execution_count": null,
      "outputs": [
        {
          "output_type": "execute_result",
          "data": {
            "text/plain": [
              "(23111, 19)"
            ]
          },
          "metadata": {
            "tags": []
          },
          "execution_count": 10
        }
      ]
    },
    {
      "cell_type": "code",
      "metadata": {
        "id": "6JfncTBnv5sn"
      },
      "source": [
        "taxi_shape = f'taxi has {taxi.shape[0]} rows and {taxi.shape[1]} columns'"
      ],
      "execution_count": null,
      "outputs": []
    },
    {
      "cell_type": "code",
      "metadata": {
        "colab": {
          "base_uri": "https://localhost:8080/"
        },
        "id": "gm-YY7uKv5so",
        "outputId": "735ff715-668c-481c-f764-6a05d5397970"
      },
      "source": [
        "print(taxi_shape )"
      ],
      "execution_count": null,
      "outputs": [
        {
          "output_type": "stream",
          "text": [
            "taxi has 23111 rows and 19 columns\n"
          ],
          "name": "stdout"
        }
      ]
    },
    {
      "cell_type": "markdown",
      "metadata": {
        "id": "kx-m-BTJv5sq"
      },
      "source": [
        "2) Положите в переменную na_number серию, в которой для каждой колонки указано сколько ячеек содержат пропущенные значения."
      ]
    },
    {
      "cell_type": "code",
      "metadata": {
        "colab": {
          "base_uri": "https://localhost:8080/"
        },
        "id": "KOjzzDBOv5ss",
        "outputId": "218372b9-38e7-459f-81e6-eaeea67ad1e4"
      },
      "source": [
        "na_number = taxi.isna().sum()\n",
        "na_number"
      ],
      "execution_count": null,
      "outputs": [
        {
          "output_type": "execute_result",
          "data": {
            "text/plain": [
              "journey_id              0\n",
              "user_id                 0\n",
              "driver_id            3385\n",
              "taxi_id              3385\n",
              "icon                    0\n",
              "start_type              0\n",
              "start_at                0\n",
              "start_lat               0\n",
              "start_lon               0\n",
              "end_at                276\n",
              "end_lat                 0\n",
              "end_lon                 0\n",
              "end_state              12\n",
              "driver_start_lat     3490\n",
              "driver_start_lon     3490\n",
              "arrived_at           5395\n",
              "source                123\n",
              "driver_score        15461\n",
              "rider_score          7721\n",
              "dtype: int64"
            ]
          },
          "metadata": {
            "tags": []
          },
          "execution_count": 13
        }
      ]
    },
    {
      "cell_type": "markdown",
      "metadata": {
        "id": "T597Y8Mnv6wB"
      },
      "source": [
        "**А вот и наш первый минипроект :)**"
      ]
    },
    {
      "cell_type": "code",
      "metadata": {
        "id": "QmT7xVNsv6wD"
      },
      "source": [
        "import pandas as pd\n",
        "import numpy as np\n",
        "taxi = pd.read_csv('https://stepik.org/media/attachments/lesson/362441/taxi_peru.csv', sep=';')#"
      ],
      "execution_count": null,
      "outputs": []
    },
    {
      "cell_type": "markdown",
      "metadata": {
        "id": "31fBX8O4v6wF"
      },
      "source": [
        "1) Сохраните данные, находящиеся в папке (taxi_peru.csv), в переменную taxi, разделитель – ;. Ваша задача положить в переменную  taxi_shape строку с информацией сколько линий и столбцов он имеет в следующем виде:\n",
        "'taxi has y rows and x columns'\n",
        "где y – число строк, а x – число колонок."
      ]
    },
    {
      "cell_type": "code",
      "metadata": {
        "colab": {
          "base_uri": "https://localhost:8080/",
          "height": 199
        },
        "id": "pYYQDY-Nv6wG",
        "outputId": "c5b397d0-d3f5-4e73-c48c-320c9377a7ff"
      },
      "source": [
        "taxi.head(2)"
      ],
      "execution_count": null,
      "outputs": [
        {
          "output_type": "execute_result",
          "data": {
            "text/html": [
              "<div>\n",
              "<style scoped>\n",
              "    .dataframe tbody tr th:only-of-type {\n",
              "        vertical-align: middle;\n",
              "    }\n",
              "\n",
              "    .dataframe tbody tr th {\n",
              "        vertical-align: top;\n",
              "    }\n",
              "\n",
              "    .dataframe thead th {\n",
              "        text-align: right;\n",
              "    }\n",
              "</style>\n",
              "<table border=\"1\" class=\"dataframe\">\n",
              "  <thead>\n",
              "    <tr style=\"text-align: right;\">\n",
              "      <th></th>\n",
              "      <th>journey_id</th>\n",
              "      <th>user_id</th>\n",
              "      <th>driver_id</th>\n",
              "      <th>taxi_id</th>\n",
              "      <th>icon</th>\n",
              "      <th>start_type</th>\n",
              "      <th>start_at</th>\n",
              "      <th>start_lat</th>\n",
              "      <th>start_lon</th>\n",
              "      <th>end_at</th>\n",
              "      <th>end_lat</th>\n",
              "      <th>end_lon</th>\n",
              "      <th>end_state</th>\n",
              "      <th>driver_start_lat</th>\n",
              "      <th>driver_start_lon</th>\n",
              "      <th>arrived_at</th>\n",
              "      <th>source</th>\n",
              "      <th>driver_score</th>\n",
              "      <th>rider_score</th>\n",
              "    </tr>\n",
              "  </thead>\n",
              "  <tbody>\n",
              "    <tr>\n",
              "      <th>0</th>\n",
              "      <td>23a1406fc6a11d866e3c82f22eed4d4c</td>\n",
              "      <td>0e9af5bbf1edfe591b54ecdfd7e91e26</td>\n",
              "      <td>583949a89a9ee17d19e3ca4f137b6b4c</td>\n",
              "      <td>b12f4f09c783e29fe0d0ea624530db56</td>\n",
              "      <td>executive</td>\n",
              "      <td>asap</td>\n",
              "      <td>2010-11-16 16:44:00</td>\n",
              "      <td>-12,13983536</td>\n",
              "      <td>-77,02355957</td>\n",
              "      <td>2010-11-16 17:29:00</td>\n",
              "      <td>-12,05537033</td>\n",
              "      <td>-77,0413208</td>\n",
              "      <td>drop off</td>\n",
              "      <td>-12,10825481</td>\n",
              "      <td>-77,0272739</td>\n",
              "      <td>2010-11-16 17:02:00</td>\n",
              "      <td>iPhone</td>\n",
              "      <td>5.0</td>\n",
              "      <td>5.0</td>\n",
              "    </tr>\n",
              "    <tr>\n",
              "      <th>1</th>\n",
              "      <td>dd2af4715d0dc16eded53afc0e243577</td>\n",
              "      <td>a553c46e3a22fb9c326aeb3d72b3334e</td>\n",
              "      <td>NaN</td>\n",
              "      <td>NaN</td>\n",
              "      <td>executive</td>\n",
              "      <td>asap</td>\n",
              "      <td>2010-06-01 00:34:00</td>\n",
              "      <td>-12,13874817</td>\n",
              "      <td>-76,99536133</td>\n",
              "      <td>2010-06-01 00:37:00</td>\n",
              "      <td>-12,12465668</td>\n",
              "      <td>-77,02886963</td>\n",
              "      <td>not found</td>\n",
              "      <td>NaN</td>\n",
              "      <td>NaN</td>\n",
              "      <td>NaN</td>\n",
              "      <td>iPhone</td>\n",
              "      <td>NaN</td>\n",
              "      <td>NaN</td>\n",
              "    </tr>\n",
              "  </tbody>\n",
              "</table>\n",
              "</div>"
            ],
            "text/plain": [
              "                         journey_id  ... rider_score\n",
              "0  23a1406fc6a11d866e3c82f22eed4d4c  ...         5.0\n",
              "1  dd2af4715d0dc16eded53afc0e243577  ...         NaN\n",
              "\n",
              "[2 rows x 19 columns]"
            ]
          },
          "metadata": {
            "tags": []
          },
          "execution_count": 9
        }
      ]
    },
    {
      "cell_type": "code",
      "metadata": {
        "colab": {
          "base_uri": "https://localhost:8080/"
        },
        "id": "AUkiCPoKv6wN",
        "outputId": "a74beb8d-9982-4bc1-a4a5-e133d07b4481"
      },
      "source": [
        "taxi.shape"
      ],
      "execution_count": null,
      "outputs": [
        {
          "output_type": "execute_result",
          "data": {
            "text/plain": [
              "(23111, 19)"
            ]
          },
          "metadata": {
            "tags": []
          },
          "execution_count": 10
        }
      ]
    },
    {
      "cell_type": "code",
      "metadata": {
        "id": "_sKjdNlgv6wQ"
      },
      "source": [
        "taxi_shape = f'taxi has {taxi.shape[0]} rows and {taxi.shape[1]} columns'"
      ],
      "execution_count": null,
      "outputs": []
    },
    {
      "cell_type": "code",
      "metadata": {
        "colab": {
          "base_uri": "https://localhost:8080/"
        },
        "id": "78h1ttLVv6wS",
        "outputId": "735ff715-668c-481c-f764-6a05d5397970"
      },
      "source": [
        "print(taxi_shape )"
      ],
      "execution_count": null,
      "outputs": [
        {
          "output_type": "stream",
          "text": [
            "taxi has 23111 rows and 19 columns\n"
          ],
          "name": "stdout"
        }
      ]
    },
    {
      "cell_type": "markdown",
      "metadata": {
        "id": "XM71u2NEv6wW"
      },
      "source": [
        "2) Положите в переменную na_number серию, в которой для каждой колонки указано сколько ячеек содержат пропущенные значения."
      ]
    },
    {
      "cell_type": "code",
      "metadata": {
        "colab": {
          "base_uri": "https://localhost:8080/"
        },
        "id": "t5bLg_Ftv6wY",
        "outputId": "218372b9-38e7-459f-81e6-eaeea67ad1e4"
      },
      "source": [
        "na_number = taxi.isna().sum()\n",
        "na_number"
      ],
      "execution_count": null,
      "outputs": [
        {
          "output_type": "execute_result",
          "data": {
            "text/plain": [
              "journey_id              0\n",
              "user_id                 0\n",
              "driver_id            3385\n",
              "taxi_id              3385\n",
              "icon                    0\n",
              "start_type              0\n",
              "start_at                0\n",
              "start_lat               0\n",
              "start_lon               0\n",
              "end_at                276\n",
              "end_lat                 0\n",
              "end_lon                 0\n",
              "end_state              12\n",
              "driver_start_lat     3490\n",
              "driver_start_lon     3490\n",
              "arrived_at           5395\n",
              "source                123\n",
              "driver_score        15461\n",
              "rider_score          7721\n",
              "dtype: int64"
            ]
          },
          "metadata": {
            "tags": []
          },
          "execution_count": 13
        }
      ]
    },
    {
      "cell_type": "markdown",
      "metadata": {
        "id": "ULUOmlOHv7pG"
      },
      "source": [
        "**А вот и наш первый минипроект :)**"
      ]
    },
    {
      "cell_type": "code",
      "metadata": {
        "id": "A9oWsw0Rv7pH"
      },
      "source": [
        "import pandas as pd\n",
        "import numpy as np\n",
        "taxi = pd.read_csv('https://stepik.org/media/attachments/lesson/362441/taxi_peru.csv', sep=';')#"
      ],
      "execution_count": null,
      "outputs": []
    },
    {
      "cell_type": "markdown",
      "metadata": {
        "id": "4TcqVmgFv7pK"
      },
      "source": [
        "1) Сохраните данные, находящиеся в папке (taxi_peru.csv), в переменную taxi, разделитель – ;. Ваша задача положить в переменную  taxi_shape строку с информацией сколько линий и столбцов он имеет в следующем виде:\n",
        "'taxi has y rows and x columns'\n",
        "где y – число строк, а x – число колонок."
      ]
    },
    {
      "cell_type": "code",
      "metadata": {
        "colab": {
          "base_uri": "https://localhost:8080/",
          "height": 199
        },
        "id": "lWJttMEGv7pM",
        "outputId": "c5b397d0-d3f5-4e73-c48c-320c9377a7ff"
      },
      "source": [
        "taxi.head(2)"
      ],
      "execution_count": null,
      "outputs": [
        {
          "output_type": "execute_result",
          "data": {
            "text/html": [
              "<div>\n",
              "<style scoped>\n",
              "    .dataframe tbody tr th:only-of-type {\n",
              "        vertical-align: middle;\n",
              "    }\n",
              "\n",
              "    .dataframe tbody tr th {\n",
              "        vertical-align: top;\n",
              "    }\n",
              "\n",
              "    .dataframe thead th {\n",
              "        text-align: right;\n",
              "    }\n",
              "</style>\n",
              "<table border=\"1\" class=\"dataframe\">\n",
              "  <thead>\n",
              "    <tr style=\"text-align: right;\">\n",
              "      <th></th>\n",
              "      <th>journey_id</th>\n",
              "      <th>user_id</th>\n",
              "      <th>driver_id</th>\n",
              "      <th>taxi_id</th>\n",
              "      <th>icon</th>\n",
              "      <th>start_type</th>\n",
              "      <th>start_at</th>\n",
              "      <th>start_lat</th>\n",
              "      <th>start_lon</th>\n",
              "      <th>end_at</th>\n",
              "      <th>end_lat</th>\n",
              "      <th>end_lon</th>\n",
              "      <th>end_state</th>\n",
              "      <th>driver_start_lat</th>\n",
              "      <th>driver_start_lon</th>\n",
              "      <th>arrived_at</th>\n",
              "      <th>source</th>\n",
              "      <th>driver_score</th>\n",
              "      <th>rider_score</th>\n",
              "    </tr>\n",
              "  </thead>\n",
              "  <tbody>\n",
              "    <tr>\n",
              "      <th>0</th>\n",
              "      <td>23a1406fc6a11d866e3c82f22eed4d4c</td>\n",
              "      <td>0e9af5bbf1edfe591b54ecdfd7e91e26</td>\n",
              "      <td>583949a89a9ee17d19e3ca4f137b6b4c</td>\n",
              "      <td>b12f4f09c783e29fe0d0ea624530db56</td>\n",
              "      <td>executive</td>\n",
              "      <td>asap</td>\n",
              "      <td>2010-11-16 16:44:00</td>\n",
              "      <td>-12,13983536</td>\n",
              "      <td>-77,02355957</td>\n",
              "      <td>2010-11-16 17:29:00</td>\n",
              "      <td>-12,05537033</td>\n",
              "      <td>-77,0413208</td>\n",
              "      <td>drop off</td>\n",
              "      <td>-12,10825481</td>\n",
              "      <td>-77,0272739</td>\n",
              "      <td>2010-11-16 17:02:00</td>\n",
              "      <td>iPhone</td>\n",
              "      <td>5.0</td>\n",
              "      <td>5.0</td>\n",
              "    </tr>\n",
              "    <tr>\n",
              "      <th>1</th>\n",
              "      <td>dd2af4715d0dc16eded53afc0e243577</td>\n",
              "      <td>a553c46e3a22fb9c326aeb3d72b3334e</td>\n",
              "      <td>NaN</td>\n",
              "      <td>NaN</td>\n",
              "      <td>executive</td>\n",
              "      <td>asap</td>\n",
              "      <td>2010-06-01 00:34:00</td>\n",
              "      <td>-12,13874817</td>\n",
              "      <td>-76,99536133</td>\n",
              "      <td>2010-06-01 00:37:00</td>\n",
              "      <td>-12,12465668</td>\n",
              "      <td>-77,02886963</td>\n",
              "      <td>not found</td>\n",
              "      <td>NaN</td>\n",
              "      <td>NaN</td>\n",
              "      <td>NaN</td>\n",
              "      <td>iPhone</td>\n",
              "      <td>NaN</td>\n",
              "      <td>NaN</td>\n",
              "    </tr>\n",
              "  </tbody>\n",
              "</table>\n",
              "</div>"
            ],
            "text/plain": [
              "                         journey_id  ... rider_score\n",
              "0  23a1406fc6a11d866e3c82f22eed4d4c  ...         5.0\n",
              "1  dd2af4715d0dc16eded53afc0e243577  ...         NaN\n",
              "\n",
              "[2 rows x 19 columns]"
            ]
          },
          "metadata": {
            "tags": []
          },
          "execution_count": 9
        }
      ]
    },
    {
      "cell_type": "code",
      "metadata": {
        "colab": {
          "base_uri": "https://localhost:8080/"
        },
        "id": "z3wD9Ty7v7pQ",
        "outputId": "a74beb8d-9982-4bc1-a4a5-e133d07b4481"
      },
      "source": [
        "taxi.shape"
      ],
      "execution_count": null,
      "outputs": [
        {
          "output_type": "execute_result",
          "data": {
            "text/plain": [
              "(23111, 19)"
            ]
          },
          "metadata": {
            "tags": []
          },
          "execution_count": 10
        }
      ]
    },
    {
      "cell_type": "code",
      "metadata": {
        "id": "8UHYqzdlv7pS"
      },
      "source": [
        "taxi_shape = f'taxi has {taxi.shape[0]} rows and {taxi.shape[1]} columns'"
      ],
      "execution_count": null,
      "outputs": []
    },
    {
      "cell_type": "code",
      "metadata": {
        "colab": {
          "base_uri": "https://localhost:8080/"
        },
        "id": "jYtvViijv7pU",
        "outputId": "735ff715-668c-481c-f764-6a05d5397970"
      },
      "source": [
        "print(taxi_shape )"
      ],
      "execution_count": null,
      "outputs": [
        {
          "output_type": "stream",
          "text": [
            "taxi has 23111 rows and 19 columns\n"
          ],
          "name": "stdout"
        }
      ]
    },
    {
      "cell_type": "markdown",
      "metadata": {
        "id": "FuLLZ8ZKv7pW"
      },
      "source": [
        "2) Положите в переменную na_number серию, в которой для каждой колонки указано сколько ячеек содержат пропущенные значения."
      ]
    },
    {
      "cell_type": "code",
      "metadata": {
        "colab": {
          "base_uri": "https://localhost:8080/"
        },
        "id": "ALCZGx5av7pX",
        "outputId": "218372b9-38e7-459f-81e6-eaeea67ad1e4"
      },
      "source": [
        "na_number = taxi.isna().sum()\n",
        "na_number"
      ],
      "execution_count": null,
      "outputs": [
        {
          "output_type": "execute_result",
          "data": {
            "text/plain": [
              "journey_id              0\n",
              "user_id                 0\n",
              "driver_id            3385\n",
              "taxi_id              3385\n",
              "icon                    0\n",
              "start_type              0\n",
              "start_at                0\n",
              "start_lat               0\n",
              "start_lon               0\n",
              "end_at                276\n",
              "end_lat                 0\n",
              "end_lon                 0\n",
              "end_state              12\n",
              "driver_start_lat     3490\n",
              "driver_start_lon     3490\n",
              "arrived_at           5395\n",
              "source                123\n",
              "driver_score        15461\n",
              "rider_score          7721\n",
              "dtype: int64"
            ]
          },
          "metadata": {
            "tags": []
          },
          "execution_count": 13
        }
      ]
    },
    {
      "cell_type": "markdown",
      "metadata": {
        "id": "laWMRuXGv9JK"
      },
      "source": [
        "**А вот и наш первый минипроект :)**"
      ]
    },
    {
      "cell_type": "code",
      "metadata": {
        "id": "YTETImOrv9JM"
      },
      "source": [
        "import pandas as pd\n",
        "import numpy as np\n",
        "taxi = pd.read_csv('https://stepik.org/media/attachments/lesson/362441/taxi_peru.csv', sep=';')#"
      ],
      "execution_count": null,
      "outputs": []
    },
    {
      "cell_type": "markdown",
      "metadata": {
        "id": "w8TLtxlev9JO"
      },
      "source": [
        "1) Сохраните данные, находящиеся в папке (taxi_peru.csv), в переменную taxi, разделитель – ;. Ваша задача положить в переменную  taxi_shape строку с информацией сколько линий и столбцов он имеет в следующем виде:\n",
        "'taxi has y rows and x columns'\n",
        "где y – число строк, а x – число колонок."
      ]
    },
    {
      "cell_type": "code",
      "metadata": {
        "colab": {
          "base_uri": "https://localhost:8080/",
          "height": 199
        },
        "id": "DFH8AGmtv9JR",
        "outputId": "c5b397d0-d3f5-4e73-c48c-320c9377a7ff"
      },
      "source": [
        "taxi.head(2)"
      ],
      "execution_count": null,
      "outputs": [
        {
          "output_type": "execute_result",
          "data": {
            "text/html": [
              "<div>\n",
              "<style scoped>\n",
              "    .dataframe tbody tr th:only-of-type {\n",
              "        vertical-align: middle;\n",
              "    }\n",
              "\n",
              "    .dataframe tbody tr th {\n",
              "        vertical-align: top;\n",
              "    }\n",
              "\n",
              "    .dataframe thead th {\n",
              "        text-align: right;\n",
              "    }\n",
              "</style>\n",
              "<table border=\"1\" class=\"dataframe\">\n",
              "  <thead>\n",
              "    <tr style=\"text-align: right;\">\n",
              "      <th></th>\n",
              "      <th>journey_id</th>\n",
              "      <th>user_id</th>\n",
              "      <th>driver_id</th>\n",
              "      <th>taxi_id</th>\n",
              "      <th>icon</th>\n",
              "      <th>start_type</th>\n",
              "      <th>start_at</th>\n",
              "      <th>start_lat</th>\n",
              "      <th>start_lon</th>\n",
              "      <th>end_at</th>\n",
              "      <th>end_lat</th>\n",
              "      <th>end_lon</th>\n",
              "      <th>end_state</th>\n",
              "      <th>driver_start_lat</th>\n",
              "      <th>driver_start_lon</th>\n",
              "      <th>arrived_at</th>\n",
              "      <th>source</th>\n",
              "      <th>driver_score</th>\n",
              "      <th>rider_score</th>\n",
              "    </tr>\n",
              "  </thead>\n",
              "  <tbody>\n",
              "    <tr>\n",
              "      <th>0</th>\n",
              "      <td>23a1406fc6a11d866e3c82f22eed4d4c</td>\n",
              "      <td>0e9af5bbf1edfe591b54ecdfd7e91e26</td>\n",
              "      <td>583949a89a9ee17d19e3ca4f137b6b4c</td>\n",
              "      <td>b12f4f09c783e29fe0d0ea624530db56</td>\n",
              "      <td>executive</td>\n",
              "      <td>asap</td>\n",
              "      <td>2010-11-16 16:44:00</td>\n",
              "      <td>-12,13983536</td>\n",
              "      <td>-77,02355957</td>\n",
              "      <td>2010-11-16 17:29:00</td>\n",
              "      <td>-12,05537033</td>\n",
              "      <td>-77,0413208</td>\n",
              "      <td>drop off</td>\n",
              "      <td>-12,10825481</td>\n",
              "      <td>-77,0272739</td>\n",
              "      <td>2010-11-16 17:02:00</td>\n",
              "      <td>iPhone</td>\n",
              "      <td>5.0</td>\n",
              "      <td>5.0</td>\n",
              "    </tr>\n",
              "    <tr>\n",
              "      <th>1</th>\n",
              "      <td>dd2af4715d0dc16eded53afc0e243577</td>\n",
              "      <td>a553c46e3a22fb9c326aeb3d72b3334e</td>\n",
              "      <td>NaN</td>\n",
              "      <td>NaN</td>\n",
              "      <td>executive</td>\n",
              "      <td>asap</td>\n",
              "      <td>2010-06-01 00:34:00</td>\n",
              "      <td>-12,13874817</td>\n",
              "      <td>-76,99536133</td>\n",
              "      <td>2010-06-01 00:37:00</td>\n",
              "      <td>-12,12465668</td>\n",
              "      <td>-77,02886963</td>\n",
              "      <td>not found</td>\n",
              "      <td>NaN</td>\n",
              "      <td>NaN</td>\n",
              "      <td>NaN</td>\n",
              "      <td>iPhone</td>\n",
              "      <td>NaN</td>\n",
              "      <td>NaN</td>\n",
              "    </tr>\n",
              "  </tbody>\n",
              "</table>\n",
              "</div>"
            ],
            "text/plain": [
              "                         journey_id  ... rider_score\n",
              "0  23a1406fc6a11d866e3c82f22eed4d4c  ...         5.0\n",
              "1  dd2af4715d0dc16eded53afc0e243577  ...         NaN\n",
              "\n",
              "[2 rows x 19 columns]"
            ]
          },
          "metadata": {
            "tags": []
          },
          "execution_count": 9
        }
      ]
    },
    {
      "cell_type": "code",
      "metadata": {
        "colab": {
          "base_uri": "https://localhost:8080/"
        },
        "id": "oKjnVtDYv9JT",
        "outputId": "a74beb8d-9982-4bc1-a4a5-e133d07b4481"
      },
      "source": [
        "taxi.shape"
      ],
      "execution_count": null,
      "outputs": [
        {
          "output_type": "execute_result",
          "data": {
            "text/plain": [
              "(23111, 19)"
            ]
          },
          "metadata": {
            "tags": []
          },
          "execution_count": 10
        }
      ]
    },
    {
      "cell_type": "code",
      "metadata": {
        "id": "3IwgDOMrv9JU"
      },
      "source": [
        "taxi_shape = f'taxi has {taxi.shape[0]} rows and {taxi.shape[1]} columns'"
      ],
      "execution_count": null,
      "outputs": []
    },
    {
      "cell_type": "code",
      "metadata": {
        "colab": {
          "base_uri": "https://localhost:8080/"
        },
        "id": "nagTSXDDv9JV",
        "outputId": "735ff715-668c-481c-f764-6a05d5397970"
      },
      "source": [
        "print(taxi_shape )"
      ],
      "execution_count": null,
      "outputs": [
        {
          "output_type": "stream",
          "text": [
            "taxi has 23111 rows and 19 columns\n"
          ],
          "name": "stdout"
        }
      ]
    },
    {
      "cell_type": "markdown",
      "metadata": {
        "id": "cHpsQGGiv9JX"
      },
      "source": [
        "2) Положите в переменную na_number серию, в которой для каждой колонки указано сколько ячеек содержат пропущенные значения."
      ]
    },
    {
      "cell_type": "code",
      "metadata": {
        "colab": {
          "base_uri": "https://localhost:8080/"
        },
        "id": "heBEN4zVv9JY",
        "outputId": "218372b9-38e7-459f-81e6-eaeea67ad1e4"
      },
      "source": [
        "na_number = taxi.isna().sum()\n",
        "na_number"
      ],
      "execution_count": null,
      "outputs": [
        {
          "output_type": "execute_result",
          "data": {
            "text/plain": [
              "journey_id              0\n",
              "user_id                 0\n",
              "driver_id            3385\n",
              "taxi_id              3385\n",
              "icon                    0\n",
              "start_type              0\n",
              "start_at                0\n",
              "start_lat               0\n",
              "start_lon               0\n",
              "end_at                276\n",
              "end_lat                 0\n",
              "end_lon                 0\n",
              "end_state              12\n",
              "driver_start_lat     3490\n",
              "driver_start_lon     3490\n",
              "arrived_at           5395\n",
              "source                123\n",
              "driver_score        15461\n",
              "rider_score          7721\n",
              "dtype: int64"
            ]
          },
          "metadata": {
            "tags": []
          },
          "execution_count": 13
        }
      ]
    },
    {
      "cell_type": "markdown",
      "metadata": {
        "id": "8NZF5mV5wAXq"
      },
      "source": [
        "**А вот и наш первый минипроект :)**"
      ]
    },
    {
      "cell_type": "code",
      "metadata": {
        "id": "bCnslDVBwAXv"
      },
      "source": [
        "import pandas as pd\n",
        "import numpy as np\n",
        "taxi = pd.read_csv('https://stepik.org/media/attachments/lesson/362441/taxi_peru.csv', sep=';')#"
      ],
      "execution_count": null,
      "outputs": []
    },
    {
      "cell_type": "markdown",
      "metadata": {
        "id": "dOuqD_0hwAXy"
      },
      "source": [
        "1) Сохраните данные, находящиеся в папке (taxi_peru.csv), в переменную taxi, разделитель – ;. Ваша задача положить в переменную  taxi_shape строку с информацией сколько линий и столбцов он имеет в следующем виде:\n",
        "'taxi has y rows and x columns'\n",
        "где y – число строк, а x – число колонок."
      ]
    },
    {
      "cell_type": "code",
      "metadata": {
        "colab": {
          "base_uri": "https://localhost:8080/",
          "height": 199
        },
        "id": "JrgooNv6wAXz",
        "outputId": "c5b397d0-d3f5-4e73-c48c-320c9377a7ff"
      },
      "source": [
        "taxi.head(2)"
      ],
      "execution_count": null,
      "outputs": [
        {
          "output_type": "execute_result",
          "data": {
            "text/html": [
              "<div>\n",
              "<style scoped>\n",
              "    .dataframe tbody tr th:only-of-type {\n",
              "        vertical-align: middle;\n",
              "    }\n",
              "\n",
              "    .dataframe tbody tr th {\n",
              "        vertical-align: top;\n",
              "    }\n",
              "\n",
              "    .dataframe thead th {\n",
              "        text-align: right;\n",
              "    }\n",
              "</style>\n",
              "<table border=\"1\" class=\"dataframe\">\n",
              "  <thead>\n",
              "    <tr style=\"text-align: right;\">\n",
              "      <th></th>\n",
              "      <th>journey_id</th>\n",
              "      <th>user_id</th>\n",
              "      <th>driver_id</th>\n",
              "      <th>taxi_id</th>\n",
              "      <th>icon</th>\n",
              "      <th>start_type</th>\n",
              "      <th>start_at</th>\n",
              "      <th>start_lat</th>\n",
              "      <th>start_lon</th>\n",
              "      <th>end_at</th>\n",
              "      <th>end_lat</th>\n",
              "      <th>end_lon</th>\n",
              "      <th>end_state</th>\n",
              "      <th>driver_start_lat</th>\n",
              "      <th>driver_start_lon</th>\n",
              "      <th>arrived_at</th>\n",
              "      <th>source</th>\n",
              "      <th>driver_score</th>\n",
              "      <th>rider_score</th>\n",
              "    </tr>\n",
              "  </thead>\n",
              "  <tbody>\n",
              "    <tr>\n",
              "      <th>0</th>\n",
              "      <td>23a1406fc6a11d866e3c82f22eed4d4c</td>\n",
              "      <td>0e9af5bbf1edfe591b54ecdfd7e91e26</td>\n",
              "      <td>583949a89a9ee17d19e3ca4f137b6b4c</td>\n",
              "      <td>b12f4f09c783e29fe0d0ea624530db56</td>\n",
              "      <td>executive</td>\n",
              "      <td>asap</td>\n",
              "      <td>2010-11-16 16:44:00</td>\n",
              "      <td>-12,13983536</td>\n",
              "      <td>-77,02355957</td>\n",
              "      <td>2010-11-16 17:29:00</td>\n",
              "      <td>-12,05537033</td>\n",
              "      <td>-77,0413208</td>\n",
              "      <td>drop off</td>\n",
              "      <td>-12,10825481</td>\n",
              "      <td>-77,0272739</td>\n",
              "      <td>2010-11-16 17:02:00</td>\n",
              "      <td>iPhone</td>\n",
              "      <td>5.0</td>\n",
              "      <td>5.0</td>\n",
              "    </tr>\n",
              "    <tr>\n",
              "      <th>1</th>\n",
              "      <td>dd2af4715d0dc16eded53afc0e243577</td>\n",
              "      <td>a553c46e3a22fb9c326aeb3d72b3334e</td>\n",
              "      <td>NaN</td>\n",
              "      <td>NaN</td>\n",
              "      <td>executive</td>\n",
              "      <td>asap</td>\n",
              "      <td>2010-06-01 00:34:00</td>\n",
              "      <td>-12,13874817</td>\n",
              "      <td>-76,99536133</td>\n",
              "      <td>2010-06-01 00:37:00</td>\n",
              "      <td>-12,12465668</td>\n",
              "      <td>-77,02886963</td>\n",
              "      <td>not found</td>\n",
              "      <td>NaN</td>\n",
              "      <td>NaN</td>\n",
              "      <td>NaN</td>\n",
              "      <td>iPhone</td>\n",
              "      <td>NaN</td>\n",
              "      <td>NaN</td>\n",
              "    </tr>\n",
              "  </tbody>\n",
              "</table>\n",
              "</div>"
            ],
            "text/plain": [
              "                         journey_id  ... rider_score\n",
              "0  23a1406fc6a11d866e3c82f22eed4d4c  ...         5.0\n",
              "1  dd2af4715d0dc16eded53afc0e243577  ...         NaN\n",
              "\n",
              "[2 rows x 19 columns]"
            ]
          },
          "metadata": {
            "tags": []
          },
          "execution_count": 9
        }
      ]
    },
    {
      "cell_type": "code",
      "metadata": {
        "colab": {
          "base_uri": "https://localhost:8080/"
        },
        "id": "md1uqOSgwAYB",
        "outputId": "a74beb8d-9982-4bc1-a4a5-e133d07b4481"
      },
      "source": [
        "taxi.shape"
      ],
      "execution_count": null,
      "outputs": [
        {
          "output_type": "execute_result",
          "data": {
            "text/plain": [
              "(23111, 19)"
            ]
          },
          "metadata": {
            "tags": []
          },
          "execution_count": 10
        }
      ]
    },
    {
      "cell_type": "code",
      "metadata": {
        "id": "8sXkAdF8wAYD"
      },
      "source": [
        "taxi_shape = f'taxi has {taxi.shape[0]} rows and {taxi.shape[1]} columns'"
      ],
      "execution_count": null,
      "outputs": []
    },
    {
      "cell_type": "code",
      "metadata": {
        "colab": {
          "base_uri": "https://localhost:8080/"
        },
        "id": "WXH_kTLEwAYE",
        "outputId": "735ff715-668c-481c-f764-6a05d5397970"
      },
      "source": [
        "print(taxi_shape )"
      ],
      "execution_count": null,
      "outputs": [
        {
          "output_type": "stream",
          "text": [
            "taxi has 23111 rows and 19 columns\n"
          ],
          "name": "stdout"
        }
      ]
    },
    {
      "cell_type": "markdown",
      "metadata": {
        "id": "KZDPJnm0wAYG"
      },
      "source": [
        "2) Положите в переменную na_number серию, в которой для каждой колонки указано сколько ячеек содержат пропущенные значения."
      ]
    },
    {
      "cell_type": "code",
      "metadata": {
        "colab": {
          "base_uri": "https://localhost:8080/"
        },
        "id": "Ecuf0uhLwAYH",
        "outputId": "218372b9-38e7-459f-81e6-eaeea67ad1e4"
      },
      "source": [
        "na_number = taxi.isna().sum()\n",
        "na_number"
      ],
      "execution_count": null,
      "outputs": [
        {
          "output_type": "execute_result",
          "data": {
            "text/plain": [
              "journey_id              0\n",
              "user_id                 0\n",
              "driver_id            3385\n",
              "taxi_id              3385\n",
              "icon                    0\n",
              "start_type              0\n",
              "start_at                0\n",
              "start_lat               0\n",
              "start_lon               0\n",
              "end_at                276\n",
              "end_lat                 0\n",
              "end_lon                 0\n",
              "end_state              12\n",
              "driver_start_lat     3490\n",
              "driver_start_lon     3490\n",
              "arrived_at           5395\n",
              "source                123\n",
              "driver_score        15461\n",
              "rider_score          7721\n",
              "dtype: int64"
            ]
          },
          "metadata": {
            "tags": []
          },
          "execution_count": 13
        }
      ]
    },
    {
      "cell_type": "markdown",
      "metadata": {
        "id": "ncjzfwjRwDB7"
      },
      "source": [
        "**А вот и наш первый минипроект :)**"
      ]
    },
    {
      "cell_type": "code",
      "metadata": {
        "id": "GBcoOdGtwDB_"
      },
      "source": [
        "import pandas as pd\n",
        "import numpy as np\n",
        "taxi = pd.read_csv('https://stepik.org/media/attachments/lesson/362441/taxi_peru.csv', sep=';')#"
      ],
      "execution_count": null,
      "outputs": []
    },
    {
      "cell_type": "markdown",
      "metadata": {
        "id": "M2Hpq4IGwDCB"
      },
      "source": [
        "1) Сохраните данные, находящиеся в папке (taxi_peru.csv), в переменную taxi, разделитель – ;. Ваша задача положить в переменную  taxi_shape строку с информацией сколько линий и столбцов он имеет в следующем виде:\n",
        "'taxi has y rows and x columns'\n",
        "где y – число строк, а x – число колонок."
      ]
    },
    {
      "cell_type": "code",
      "metadata": {
        "colab": {
          "base_uri": "https://localhost:8080/",
          "height": 199
        },
        "id": "38gMU-y8wDCC",
        "outputId": "c5b397d0-d3f5-4e73-c48c-320c9377a7ff"
      },
      "source": [
        "taxi.head(2)"
      ],
      "execution_count": null,
      "outputs": [
        {
          "output_type": "execute_result",
          "data": {
            "text/html": [
              "<div>\n",
              "<style scoped>\n",
              "    .dataframe tbody tr th:only-of-type {\n",
              "        vertical-align: middle;\n",
              "    }\n",
              "\n",
              "    .dataframe tbody tr th {\n",
              "        vertical-align: top;\n",
              "    }\n",
              "\n",
              "    .dataframe thead th {\n",
              "        text-align: right;\n",
              "    }\n",
              "</style>\n",
              "<table border=\"1\" class=\"dataframe\">\n",
              "  <thead>\n",
              "    <tr style=\"text-align: right;\">\n",
              "      <th></th>\n",
              "      <th>journey_id</th>\n",
              "      <th>user_id</th>\n",
              "      <th>driver_id</th>\n",
              "      <th>taxi_id</th>\n",
              "      <th>icon</th>\n",
              "      <th>start_type</th>\n",
              "      <th>start_at</th>\n",
              "      <th>start_lat</th>\n",
              "      <th>start_lon</th>\n",
              "      <th>end_at</th>\n",
              "      <th>end_lat</th>\n",
              "      <th>end_lon</th>\n",
              "      <th>end_state</th>\n",
              "      <th>driver_start_lat</th>\n",
              "      <th>driver_start_lon</th>\n",
              "      <th>arrived_at</th>\n",
              "      <th>source</th>\n",
              "      <th>driver_score</th>\n",
              "      <th>rider_score</th>\n",
              "    </tr>\n",
              "  </thead>\n",
              "  <tbody>\n",
              "    <tr>\n",
              "      <th>0</th>\n",
              "      <td>23a1406fc6a11d866e3c82f22eed4d4c</td>\n",
              "      <td>0e9af5bbf1edfe591b54ecdfd7e91e26</td>\n",
              "      <td>583949a89a9ee17d19e3ca4f137b6b4c</td>\n",
              "      <td>b12f4f09c783e29fe0d0ea624530db56</td>\n",
              "      <td>executive</td>\n",
              "      <td>asap</td>\n",
              "      <td>2010-11-16 16:44:00</td>\n",
              "      <td>-12,13983536</td>\n",
              "      <td>-77,02355957</td>\n",
              "      <td>2010-11-16 17:29:00</td>\n",
              "      <td>-12,05537033</td>\n",
              "      <td>-77,0413208</td>\n",
              "      <td>drop off</td>\n",
              "      <td>-12,10825481</td>\n",
              "      <td>-77,0272739</td>\n",
              "      <td>2010-11-16 17:02:00</td>\n",
              "      <td>iPhone</td>\n",
              "      <td>5.0</td>\n",
              "      <td>5.0</td>\n",
              "    </tr>\n",
              "    <tr>\n",
              "      <th>1</th>\n",
              "      <td>dd2af4715d0dc16eded53afc0e243577</td>\n",
              "      <td>a553c46e3a22fb9c326aeb3d72b3334e</td>\n",
              "      <td>NaN</td>\n",
              "      <td>NaN</td>\n",
              "      <td>executive</td>\n",
              "      <td>asap</td>\n",
              "      <td>2010-06-01 00:34:00</td>\n",
              "      <td>-12,13874817</td>\n",
              "      <td>-76,99536133</td>\n",
              "      <td>2010-06-01 00:37:00</td>\n",
              "      <td>-12,12465668</td>\n",
              "      <td>-77,02886963</td>\n",
              "      <td>not found</td>\n",
              "      <td>NaN</td>\n",
              "      <td>NaN</td>\n",
              "      <td>NaN</td>\n",
              "      <td>iPhone</td>\n",
              "      <td>NaN</td>\n",
              "      <td>NaN</td>\n",
              "    </tr>\n",
              "  </tbody>\n",
              "</table>\n",
              "</div>"
            ],
            "text/plain": [
              "                         journey_id  ... rider_score\n",
              "0  23a1406fc6a11d866e3c82f22eed4d4c  ...         5.0\n",
              "1  dd2af4715d0dc16eded53afc0e243577  ...         NaN\n",
              "\n",
              "[2 rows x 19 columns]"
            ]
          },
          "metadata": {
            "tags": []
          },
          "execution_count": 9
        }
      ]
    },
    {
      "cell_type": "code",
      "metadata": {
        "colab": {
          "base_uri": "https://localhost:8080/"
        },
        "id": "YIHTtnxAwDCF",
        "outputId": "a74beb8d-9982-4bc1-a4a5-e133d07b4481"
      },
      "source": [
        "taxi.shape"
      ],
      "execution_count": null,
      "outputs": [
        {
          "output_type": "execute_result",
          "data": {
            "text/plain": [
              "(23111, 19)"
            ]
          },
          "metadata": {
            "tags": []
          },
          "execution_count": 10
        }
      ]
    },
    {
      "cell_type": "code",
      "metadata": {
        "id": "Kp0Vk6LdwDCI"
      },
      "source": [
        "taxi_shape = f'taxi has {taxi.shape[0]} rows and {taxi.shape[1]} columns'"
      ],
      "execution_count": null,
      "outputs": []
    },
    {
      "cell_type": "code",
      "metadata": {
        "colab": {
          "base_uri": "https://localhost:8080/"
        },
        "id": "NLi9NSXowDCJ",
        "outputId": "735ff715-668c-481c-f764-6a05d5397970"
      },
      "source": [
        "print(taxi_shape )"
      ],
      "execution_count": null,
      "outputs": [
        {
          "output_type": "stream",
          "text": [
            "taxi has 23111 rows and 19 columns\n"
          ],
          "name": "stdout"
        }
      ]
    },
    {
      "cell_type": "markdown",
      "metadata": {
        "id": "AdklNGplwDCM"
      },
      "source": [
        "2) Положите в переменную na_number серию, в которой для каждой колонки указано сколько ячеек содержат пропущенные значения."
      ]
    },
    {
      "cell_type": "code",
      "metadata": {
        "colab": {
          "base_uri": "https://localhost:8080/"
        },
        "id": "pFOzu6Q0wDCU",
        "outputId": "218372b9-38e7-459f-81e6-eaeea67ad1e4"
      },
      "source": [
        "na_number = taxi.isna().sum()\n",
        "na_number"
      ],
      "execution_count": null,
      "outputs": [
        {
          "output_type": "execute_result",
          "data": {
            "text/plain": [
              "journey_id              0\n",
              "user_id                 0\n",
              "driver_id            3385\n",
              "taxi_id              3385\n",
              "icon                    0\n",
              "start_type              0\n",
              "start_at                0\n",
              "start_lat               0\n",
              "start_lon               0\n",
              "end_at                276\n",
              "end_lat                 0\n",
              "end_lon                 0\n",
              "end_state              12\n",
              "driver_start_lat     3490\n",
              "driver_start_lon     3490\n",
              "arrived_at           5395\n",
              "source                123\n",
              "driver_score        15461\n",
              "rider_score          7721\n",
              "dtype: int64"
            ]
          },
          "metadata": {
            "tags": []
          },
          "execution_count": 13
        }
      ]
    },
    {
      "cell_type": "markdown",
      "metadata": {
        "id": "bXCpCiDmwH9g"
      },
      "source": [
        "**А вот и наш первый минипроект :)**"
      ]
    },
    {
      "cell_type": "code",
      "metadata": {
        "id": "72i9ooIwwH9i"
      },
      "source": [
        "import pandas as pd\n",
        "import numpy as np\n",
        "taxi = pd.read_csv('https://stepik.org/media/attachments/lesson/362441/taxi_peru.csv', sep=';')#"
      ],
      "execution_count": null,
      "outputs": []
    },
    {
      "cell_type": "markdown",
      "metadata": {
        "id": "3fXoYqjRwH9l"
      },
      "source": [
        "1) Сохраните данные, находящиеся в папке (taxi_peru.csv), в переменную taxi, разделитель – ;. Ваша задача положить в переменную  taxi_shape строку с информацией сколько линий и столбцов он имеет в следующем виде:\n",
        "'taxi has y rows and x columns'\n",
        "где y – число строк, а x – число колонок."
      ]
    },
    {
      "cell_type": "code",
      "metadata": {
        "colab": {
          "base_uri": "https://localhost:8080/",
          "height": 199
        },
        "id": "dnF6nEPSwH9m",
        "outputId": "c5b397d0-d3f5-4e73-c48c-320c9377a7ff"
      },
      "source": [
        "taxi.head(2)"
      ],
      "execution_count": null,
      "outputs": [
        {
          "output_type": "execute_result",
          "data": {
            "text/html": [
              "<div>\n",
              "<style scoped>\n",
              "    .dataframe tbody tr th:only-of-type {\n",
              "        vertical-align: middle;\n",
              "    }\n",
              "\n",
              "    .dataframe tbody tr th {\n",
              "        vertical-align: top;\n",
              "    }\n",
              "\n",
              "    .dataframe thead th {\n",
              "        text-align: right;\n",
              "    }\n",
              "</style>\n",
              "<table border=\"1\" class=\"dataframe\">\n",
              "  <thead>\n",
              "    <tr style=\"text-align: right;\">\n",
              "      <th></th>\n",
              "      <th>journey_id</th>\n",
              "      <th>user_id</th>\n",
              "      <th>driver_id</th>\n",
              "      <th>taxi_id</th>\n",
              "      <th>icon</th>\n",
              "      <th>start_type</th>\n",
              "      <th>start_at</th>\n",
              "      <th>start_lat</th>\n",
              "      <th>start_lon</th>\n",
              "      <th>end_at</th>\n",
              "      <th>end_lat</th>\n",
              "      <th>end_lon</th>\n",
              "      <th>end_state</th>\n",
              "      <th>driver_start_lat</th>\n",
              "      <th>driver_start_lon</th>\n",
              "      <th>arrived_at</th>\n",
              "      <th>source</th>\n",
              "      <th>driver_score</th>\n",
              "      <th>rider_score</th>\n",
              "    </tr>\n",
              "  </thead>\n",
              "  <tbody>\n",
              "    <tr>\n",
              "      <th>0</th>\n",
              "      <td>23a1406fc6a11d866e3c82f22eed4d4c</td>\n",
              "      <td>0e9af5bbf1edfe591b54ecdfd7e91e26</td>\n",
              "      <td>583949a89a9ee17d19e3ca4f137b6b4c</td>\n",
              "      <td>b12f4f09c783e29fe0d0ea624530db56</td>\n",
              "      <td>executive</td>\n",
              "      <td>asap</td>\n",
              "      <td>2010-11-16 16:44:00</td>\n",
              "      <td>-12,13983536</td>\n",
              "      <td>-77,02355957</td>\n",
              "      <td>2010-11-16 17:29:00</td>\n",
              "      <td>-12,05537033</td>\n",
              "      <td>-77,0413208</td>\n",
              "      <td>drop off</td>\n",
              "      <td>-12,10825481</td>\n",
              "      <td>-77,0272739</td>\n",
              "      <td>2010-11-16 17:02:00</td>\n",
              "      <td>iPhone</td>\n",
              "      <td>5.0</td>\n",
              "      <td>5.0</td>\n",
              "    </tr>\n",
              "    <tr>\n",
              "      <th>1</th>\n",
              "      <td>dd2af4715d0dc16eded53afc0e243577</td>\n",
              "      <td>a553c46e3a22fb9c326aeb3d72b3334e</td>\n",
              "      <td>NaN</td>\n",
              "      <td>NaN</td>\n",
              "      <td>executive</td>\n",
              "      <td>asap</td>\n",
              "      <td>2010-06-01 00:34:00</td>\n",
              "      <td>-12,13874817</td>\n",
              "      <td>-76,99536133</td>\n",
              "      <td>2010-06-01 00:37:00</td>\n",
              "      <td>-12,12465668</td>\n",
              "      <td>-77,02886963</td>\n",
              "      <td>not found</td>\n",
              "      <td>NaN</td>\n",
              "      <td>NaN</td>\n",
              "      <td>NaN</td>\n",
              "      <td>iPhone</td>\n",
              "      <td>NaN</td>\n",
              "      <td>NaN</td>\n",
              "    </tr>\n",
              "  </tbody>\n",
              "</table>\n",
              "</div>"
            ],
            "text/plain": [
              "                         journey_id  ... rider_score\n",
              "0  23a1406fc6a11d866e3c82f22eed4d4c  ...         5.0\n",
              "1  dd2af4715d0dc16eded53afc0e243577  ...         NaN\n",
              "\n",
              "[2 rows x 19 columns]"
            ]
          },
          "metadata": {
            "tags": []
          },
          "execution_count": 9
        }
      ]
    },
    {
      "cell_type": "code",
      "metadata": {
        "colab": {
          "base_uri": "https://localhost:8080/"
        },
        "id": "5doaJ313wH9p",
        "outputId": "a74beb8d-9982-4bc1-a4a5-e133d07b4481"
      },
      "source": [
        "taxi.shape"
      ],
      "execution_count": null,
      "outputs": [
        {
          "output_type": "execute_result",
          "data": {
            "text/plain": [
              "(23111, 19)"
            ]
          },
          "metadata": {
            "tags": []
          },
          "execution_count": 10
        }
      ]
    },
    {
      "cell_type": "code",
      "metadata": {
        "id": "2iQcgwQqwH9s"
      },
      "source": [
        "taxi_shape = f'taxi has {taxi.shape[0]} rows and {taxi.shape[1]} columns'"
      ],
      "execution_count": null,
      "outputs": []
    },
    {
      "cell_type": "code",
      "metadata": {
        "colab": {
          "base_uri": "https://localhost:8080/"
        },
        "id": "Nu2cD-0WwH9t",
        "outputId": "735ff715-668c-481c-f764-6a05d5397970"
      },
      "source": [
        "print(taxi_shape )"
      ],
      "execution_count": null,
      "outputs": [
        {
          "output_type": "stream",
          "text": [
            "taxi has 23111 rows and 19 columns\n"
          ],
          "name": "stdout"
        }
      ]
    },
    {
      "cell_type": "markdown",
      "metadata": {
        "id": "DQZ3Hy-KwH9_"
      },
      "source": [
        "2) Положите в переменную na_number серию, в которой для каждой колонки указано сколько ячеек содержат пропущенные значения."
      ]
    },
    {
      "cell_type": "code",
      "metadata": {
        "colab": {
          "base_uri": "https://localhost:8080/"
        },
        "id": "FE6hJ077wH-C",
        "outputId": "218372b9-38e7-459f-81e6-eaeea67ad1e4"
      },
      "source": [
        "na_number = taxi.isna().sum()\n",
        "na_number"
      ],
      "execution_count": null,
      "outputs": [
        {
          "output_type": "execute_result",
          "data": {
            "text/plain": [
              "journey_id              0\n",
              "user_id                 0\n",
              "driver_id            3385\n",
              "taxi_id              3385\n",
              "icon                    0\n",
              "start_type              0\n",
              "start_at                0\n",
              "start_lat               0\n",
              "start_lon               0\n",
              "end_at                276\n",
              "end_lat                 0\n",
              "end_lon                 0\n",
              "end_state              12\n",
              "driver_start_lat     3490\n",
              "driver_start_lon     3490\n",
              "arrived_at           5395\n",
              "source                123\n",
              "driver_score        15461\n",
              "rider_score          7721\n",
              "dtype: int64"
            ]
          },
          "metadata": {
            "tags": []
          },
          "execution_count": 13
        }
      ]
    }
  ]
}