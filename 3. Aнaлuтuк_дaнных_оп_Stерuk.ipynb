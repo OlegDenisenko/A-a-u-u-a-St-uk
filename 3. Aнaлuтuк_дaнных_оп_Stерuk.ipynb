{
  "nbformat": 4,
  "nbformat_minor": 0,
  "metadata": {
    "colab": {
      "name": "Aнaлuтuк дaнных оп Stерuk.ipynb",
      "provenance": [],
      "authorship_tag": "ABX9TyOv+upvvE1I9cYqccIsKHti",
      "include_colab_link": true
    },
    "kernelspec": {
      "name": "python3",
      "display_name": "Python 3"
    }
  },
  "cells": [
    {
      "cell_type": "markdown",
      "metadata": {
        "id": "view-in-github",
        "colab_type": "text"
      },
      "source": [
        "<a href=\"https://colab.research.google.com/github/OlegDenisenko/Data-analyst-Step1k/blob/main/3.%20A%D0%BDa%D0%BBu%D1%82u%D0%BA_%D0%B4a%D0%BD%D0%BD%D1%8B%D1%85_%D0%BE%D0%BF_St%D0%B5%D1%80uk.ipynb\" target=\"_parent\"><img src=\"https://colab.research.google.com/assets/colab-badge.svg\" alt=\"Open In Colab\"/></a>"
      ]
    },
    {
      "cell_type": "markdown",
      "metadata": {
        "id": "tlnydEM21Url"
      },
      "source": [
        "**А вот и наш первый минипроект :)**"
      ]
    },
    {
      "cell_type": "code",
      "metadata": {
        "id": "c98v6-9Gm83r"
      },
      "source": [
        "import pandas as pd\n",
        "import numpy as np\n",
        "taxi = pd.read_csv('https://stepik.org/media/attachments/lesson/362441/taxi_peru.csv', sep=';')#"
      ],
      "execution_count": 1,
      "outputs": []
    },
    {
      "cell_type": "markdown",
      "metadata": {
        "id": "w1yc5vY2Hs3s"
      },
      "source": [
        "1) Сохраните данные, находящиеся в папке (taxi_peru.csv), в переменную taxi, разделитель – ;. Ваша задача положить в переменную  taxi_shape строку с информацией сколько линий и столбцов он имеет в следующем виде:\n",
        "'taxi has y rows and x columns'\n",
        "где y – число строк, а x – число колонок."
      ]
    },
    {
      "cell_type": "code",
      "metadata": {
        "colab": {
          "base_uri": "https://localhost:8080/",
          "height": 199
        },
        "id": "C8-qM_GtFqGP",
        "outputId": "8bcd5207-05bc-4ee7-8ebc-2e4bd68cda31"
      },
      "source": [
        "taxi.head(2)"
      ],
      "execution_count": 2,
      "outputs": [
        {
          "output_type": "execute_result",
          "data": {
            "text/html": [
              "<div>\n",
              "<style scoped>\n",
              "    .dataframe tbody tr th:only-of-type {\n",
              "        vertical-align: middle;\n",
              "    }\n",
              "\n",
              "    .dataframe tbody tr th {\n",
              "        vertical-align: top;\n",
              "    }\n",
              "\n",
              "    .dataframe thead th {\n",
              "        text-align: right;\n",
              "    }\n",
              "</style>\n",
              "<table border=\"1\" class=\"dataframe\">\n",
              "  <thead>\n",
              "    <tr style=\"text-align: right;\">\n",
              "      <th></th>\n",
              "      <th>journey_id</th>\n",
              "      <th>user_id</th>\n",
              "      <th>driver_id</th>\n",
              "      <th>taxi_id</th>\n",
              "      <th>icon</th>\n",
              "      <th>start_type</th>\n",
              "      <th>start_at</th>\n",
              "      <th>start_lat</th>\n",
              "      <th>start_lon</th>\n",
              "      <th>end_at</th>\n",
              "      <th>end_lat</th>\n",
              "      <th>end_lon</th>\n",
              "      <th>end_state</th>\n",
              "      <th>driver_start_lat</th>\n",
              "      <th>driver_start_lon</th>\n",
              "      <th>arrived_at</th>\n",
              "      <th>source</th>\n",
              "      <th>driver_score</th>\n",
              "      <th>rider_score</th>\n",
              "    </tr>\n",
              "  </thead>\n",
              "  <tbody>\n",
              "    <tr>\n",
              "      <th>0</th>\n",
              "      <td>23a1406fc6a11d866e3c82f22eed4d4c</td>\n",
              "      <td>0e9af5bbf1edfe591b54ecdfd7e91e26</td>\n",
              "      <td>583949a89a9ee17d19e3ca4f137b6b4c</td>\n",
              "      <td>b12f4f09c783e29fe0d0ea624530db56</td>\n",
              "      <td>executive</td>\n",
              "      <td>asap</td>\n",
              "      <td>2010-11-16 16:44:00</td>\n",
              "      <td>-12,13983536</td>\n",
              "      <td>-77,02355957</td>\n",
              "      <td>2010-11-16 17:29:00</td>\n",
              "      <td>-12,05537033</td>\n",
              "      <td>-77,0413208</td>\n",
              "      <td>drop off</td>\n",
              "      <td>-12,10825481</td>\n",
              "      <td>-77,0272739</td>\n",
              "      <td>2010-11-16 17:02:00</td>\n",
              "      <td>iPhone</td>\n",
              "      <td>5.0</td>\n",
              "      <td>5.0</td>\n",
              "    </tr>\n",
              "    <tr>\n",
              "      <th>1</th>\n",
              "      <td>dd2af4715d0dc16eded53afc0e243577</td>\n",
              "      <td>a553c46e3a22fb9c326aeb3d72b3334e</td>\n",
              "      <td>NaN</td>\n",
              "      <td>NaN</td>\n",
              "      <td>executive</td>\n",
              "      <td>asap</td>\n",
              "      <td>2010-06-01 00:34:00</td>\n",
              "      <td>-12,13874817</td>\n",
              "      <td>-76,99536133</td>\n",
              "      <td>2010-06-01 00:37:00</td>\n",
              "      <td>-12,12465668</td>\n",
              "      <td>-77,02886963</td>\n",
              "      <td>not found</td>\n",
              "      <td>NaN</td>\n",
              "      <td>NaN</td>\n",
              "      <td>NaN</td>\n",
              "      <td>iPhone</td>\n",
              "      <td>NaN</td>\n",
              "      <td>NaN</td>\n",
              "    </tr>\n",
              "  </tbody>\n",
              "</table>\n",
              "</div>"
            ],
            "text/plain": [
              "                         journey_id  ... rider_score\n",
              "0  23a1406fc6a11d866e3c82f22eed4d4c  ...         5.0\n",
              "1  dd2af4715d0dc16eded53afc0e243577  ...         NaN\n",
              "\n",
              "[2 rows x 19 columns]"
            ]
          },
          "metadata": {
            "tags": []
          },
          "execution_count": 2
        }
      ]
    },
    {
      "cell_type": "code",
      "metadata": {
        "colab": {
          "base_uri": "https://localhost:8080/"
        },
        "id": "U6YZNVn_G8yt",
        "outputId": "0a5a31bd-d6cc-40e1-ce71-90191c86cc45"
      },
      "source": [
        "taxi.shape"
      ],
      "execution_count": 3,
      "outputs": [
        {
          "output_type": "execute_result",
          "data": {
            "text/plain": [
              "(23111, 19)"
            ]
          },
          "metadata": {
            "tags": []
          },
          "execution_count": 3
        }
      ]
    },
    {
      "cell_type": "code",
      "metadata": {
        "id": "teTtbcaHM636"
      },
      "source": [
        "taxi_shape = f'taxi has {taxi.shape[0]} rows and {taxi.shape[1]} columns'"
      ],
      "execution_count": 4,
      "outputs": []
    },
    {
      "cell_type": "code",
      "metadata": {
        "colab": {
          "base_uri": "https://localhost:8080/"
        },
        "id": "JRt8P7GwHP31",
        "outputId": "a6c3178d-bfb2-4623-93bc-0c7a88615789"
      },
      "source": [
        "print(taxi_shape )"
      ],
      "execution_count": 5,
      "outputs": [
        {
          "output_type": "stream",
          "text": [
            "taxi has 23111 rows and 19 columns\n"
          ],
          "name": "stdout"
        }
      ]
    },
    {
      "cell_type": "markdown",
      "metadata": {
        "id": "IsfPMEWQIBmg"
      },
      "source": [
        "2) Положите в переменную na_number серию, в которой для каждой колонки указано сколько ячеек содержат пропущенные значения."
      ]
    },
    {
      "cell_type": "code",
      "metadata": {
        "colab": {
          "base_uri": "https://localhost:8080/"
        },
        "id": "jqmvNk__MlXQ",
        "outputId": "22d943c8-a66b-4d98-b28b-dbd0d7506e82"
      },
      "source": [
        "na_number = taxi.isna().sum()\n",
        "na_number"
      ],
      "execution_count": 6,
      "outputs": [
        {
          "output_type": "execute_result",
          "data": {
            "text/plain": [
              "journey_id              0\n",
              "user_id                 0\n",
              "driver_id            3385\n",
              "taxi_id              3385\n",
              "icon                    0\n",
              "start_type              0\n",
              "start_at                0\n",
              "start_lat               0\n",
              "start_lon               0\n",
              "end_at                276\n",
              "end_lat                 0\n",
              "end_lon                 0\n",
              "end_state              12\n",
              "driver_start_lat     3490\n",
              "driver_start_lon     3490\n",
              "arrived_at           5395\n",
              "source                123\n",
              "driver_score        15461\n",
              "rider_score          7721\n",
              "dtype: int64"
            ]
          },
          "metadata": {
            "tags": []
          },
          "execution_count": 6
        }
      ]
    },
    {
      "cell_type": "markdown",
      "metadata": {
        "id": "yo9pBHgOSYa8"
      },
      "source": [
        ") Продолжим анализ данных по поездкам. Теперь посмотрим на колонки со временем!\n",
        "Затем приведите столбцы start_at, end_at, arrived_at к формату даты, используя pd.to_datetime(). Отфильтруйте данные и оставьте наблюдения со статусом заказа \"asap\" и \"reserved\" (start_type) ."
      ]
    },
    {
      "cell_type": "code",
      "metadata": {
        "id": "nABPrxhvSYDM"
      },
      "source": [
        "taxi[['start_at', 'end_at', 'arrived_at']] = taxi[['start_at', 'end_at', 'arrived_at']].apply(pd.to_datetime)"
      ],
      "execution_count": 7,
      "outputs": []
    },
    {
      "cell_type": "code",
      "metadata": {
        "id": "lnxh9aMJrVnD"
      },
      "source": [
        "taxi = taxi.query('start_type == \"asap\" or start_type == \"reserved\"')"
      ],
      "execution_count": 11,
      "outputs": []
    },
    {
      "cell_type": "markdown",
      "metadata": {
        "id": "HLerAlfGNksr"
      },
      "source": [
        "3) Сохраните в переменную df_types типы данных каждой колонки датафрэйма df."
      ]
    },
    {
      "cell_type": "code",
      "metadata": {
        "id": "lhXURMv4Y0M8",
        "colab": {
          "base_uri": "https://localhost:8080/"
        },
        "outputId": "95236e0b-bebf-4d24-fce0-4a445b5bab74"
      },
      "source": [
        "taxi.dtypes"
      ],
      "execution_count": 8,
      "outputs": [
        {
          "output_type": "execute_result",
          "data": {
            "text/plain": [
              "journey_id                  object\n",
              "user_id                     object\n",
              "driver_id                   object\n",
              "taxi_id                     object\n",
              "icon                        object\n",
              "start_type                  object\n",
              "start_at            datetime64[ns]\n",
              "start_lat                   object\n",
              "start_lon                   object\n",
              "end_at              datetime64[ns]\n",
              "end_lat                     object\n",
              "end_lon                     object\n",
              "end_state                   object\n",
              "driver_start_lat            object\n",
              "driver_start_lon            object\n",
              "arrived_at          datetime64[ns]\n",
              "source                      object\n",
              "driver_score               float64\n",
              "rider_score                float64\n",
              "dtype: object"
            ]
          },
          "metadata": {
            "tags": []
          },
          "execution_count": 8
        }
      ]
    },
    {
      "cell_type": "markdown",
      "metadata": {
        "id": "OR7NCpzLKs9D"
      },
      "source": [
        "9) ⭐️Задание со звёздочкой!⭐️\n",
        "Создайте колонку wait_time, в которой будет храниться разница между временем подачи машины (arrived_at) и временем заказа (start_at) в минутах. Чтобы сконвертировать полученный результат в минуты, можно использовать метод  .astype('timedelta64[m]')"
      ]
    },
    {
      "cell_type": "code",
      "metadata": {
        "id": "xwZswukKY0Wt"
      },
      "source": [
        "taxi['wait_time'] = (taxi.arrived_at - taxi.start_at).astype('timedelta64[m]')"
      ],
      "execution_count": 14,
      "outputs": []
    },
    {
      "cell_type": "markdown",
      "metadata": {
        "id": "DSFX7KeusNeR"
      },
      "source": [
        "Посмотрим, какие водители опаздывали на заказы к определенному времени (start_type == 'reserved'). Опозданием считается время ожидания wait_time > 0.0.\n",
        "Сгруппируйте отфильтрованные данные по driver_id и в качестве ответа укажите id водителя, который опоздал на заказ интересующего нас типа наибольшее число раз"
      ]
    },
    {
      "cell_type": "code",
      "metadata": {
        "id": "w-A2lvWaayWF"
      },
      "source": [
        "driver_late = taxi.query('start_type == \"reserved\" and  wait_time > 0.0')\\\n",
        "              .groupby('driver_id').agg({'user_id': 'count'})\\\n",
        "              .sort_values('user_id', ascending = False)#.idxmax()"
      ],
      "execution_count": 32,
      "outputs": []
    },
    {
      "cell_type": "code",
      "metadata": {
        "colab": {
          "base_uri": "https://localhost:8080/",
          "height": 450
        },
        "id": "RRIcTWzZzi3v",
        "outputId": "ea47b6f3-34c8-408e-fbb3-84ccba6b7365"
      },
      "source": [
        "driver_late"
      ],
      "execution_count": 33,
      "outputs": [
        {
          "output_type": "execute_result",
          "data": {
            "text/html": [
              "<div>\n",
              "<style scoped>\n",
              "    .dataframe tbody tr th:only-of-type {\n",
              "        vertical-align: middle;\n",
              "    }\n",
              "\n",
              "    .dataframe tbody tr th {\n",
              "        vertical-align: top;\n",
              "    }\n",
              "\n",
              "    .dataframe thead th {\n",
              "        text-align: right;\n",
              "    }\n",
              "</style>\n",
              "<table border=\"1\" class=\"dataframe\">\n",
              "  <thead>\n",
              "    <tr style=\"text-align: right;\">\n",
              "      <th></th>\n",
              "      <th>user_id</th>\n",
              "    </tr>\n",
              "    <tr>\n",
              "      <th>driver_id</th>\n",
              "      <th></th>\n",
              "    </tr>\n",
              "  </thead>\n",
              "  <tbody>\n",
              "    <tr>\n",
              "      <th>406921adcca37705ef527b4246c0cfea</th>\n",
              "      <td>67</td>\n",
              "    </tr>\n",
              "    <tr>\n",
              "      <th>d665fb9f75ef5d9cd0fd89479380ba78</th>\n",
              "      <td>59</td>\n",
              "    </tr>\n",
              "    <tr>\n",
              "      <th>ec84a73745199ff840ecafcb924383ad</th>\n",
              "      <td>57</td>\n",
              "    </tr>\n",
              "    <tr>\n",
              "      <th>56f59b58bcbbd1cdabc3652e713134c2</th>\n",
              "      <td>51</td>\n",
              "    </tr>\n",
              "    <tr>\n",
              "      <th>c814db2127582cf95dea1f74f43127c2</th>\n",
              "      <td>45</td>\n",
              "    </tr>\n",
              "    <tr>\n",
              "      <th>...</th>\n",
              "      <td>...</td>\n",
              "    </tr>\n",
              "    <tr>\n",
              "      <th>d7bf644eb441cda6127f91addebb85c4</th>\n",
              "      <td>1</td>\n",
              "    </tr>\n",
              "    <tr>\n",
              "      <th>b68895736389f2949faa8c73555b81ac</th>\n",
              "      <td>1</td>\n",
              "    </tr>\n",
              "    <tr>\n",
              "      <th>8cb98e46b27af1e6fca8768a2a6329f3</th>\n",
              "      <td>1</td>\n",
              "    </tr>\n",
              "    <tr>\n",
              "      <th>389bfa333ba8fa7281dd5f0e1b57c0c1</th>\n",
              "      <td>1</td>\n",
              "    </tr>\n",
              "    <tr>\n",
              "      <th>358741ec2409c505c4545c38669b000b</th>\n",
              "      <td>1</td>\n",
              "    </tr>\n",
              "  </tbody>\n",
              "</table>\n",
              "<p>105 rows × 1 columns</p>\n",
              "</div>"
            ],
            "text/plain": [
              "                                  user_id\n",
              "driver_id                                \n",
              "406921adcca37705ef527b4246c0cfea       67\n",
              "d665fb9f75ef5d9cd0fd89479380ba78       59\n",
              "ec84a73745199ff840ecafcb924383ad       57\n",
              "56f59b58bcbbd1cdabc3652e713134c2       51\n",
              "c814db2127582cf95dea1f74f43127c2       45\n",
              "...                                   ...\n",
              "d7bf644eb441cda6127f91addebb85c4        1\n",
              "b68895736389f2949faa8c73555b81ac        1\n",
              "8cb98e46b27af1e6fca8768a2a6329f3        1\n",
              "389bfa333ba8fa7281dd5f0e1b57c0c1        1\n",
              "358741ec2409c505c4545c38669b000b        1\n",
              "\n",
              "[105 rows x 1 columns]"
            ]
          },
          "metadata": {
            "tags": []
          },
          "execution_count": 33
        }
      ]
    },
    {
      "cell_type": "markdown",
      "metadata": {
        "id": "A8Xuo4SkibYA"
      },
      "source": [
        "11) ⭐️Задание со звёздочкой!⭐️\n",
        "Добавьте столбец month, где будет храниться месяц, в котором был сделан заказ (start_at), как номер, и столбец weekday – название дня недели. "
      ]
    },
    {
      "cell_type": "code",
      "metadata": {
        "id": "-M99PpBpaytB"
      },
      "source": [
        "taxi['month'] = taxi['start_at'].dt.month_name()"
      ],
      "execution_count": 50,
      "outputs": []
    },
    {
      "cell_type": "code",
      "metadata": {
        "id": "Qu7p4MDV8Ecy"
      },
      "source": [
        "taxi['weekday'] = taxi['start_at'].dt.day_name()"
      ],
      "execution_count": 39,
      "outputs": []
    },
    {
      "cell_type": "markdown",
      "metadata": {
        "id": "SmLpMSjdr3rc"
      },
      "source": [
        "12) ⭐️Задание со звёздочкой!⭐️\n",
        "Постройте график числа заказов по месяцам (month). Подумайте, с чем может быть связана полученная картина. \n",
        "Вопрос: в каком летнем месяце было сделано наименьшее число заказов? "
      ]
    },
    {
      "cell_type": "code",
      "metadata": {
        "id": "l9q5sdp_ay50"
      },
      "source": [
        "import seaborn as sns\n",
        "import matplotlib.pyplot as plt"
      ],
      "execution_count": 54,
      "outputs": []
    },
    {
      "cell_type": "code",
      "metadata": {
        "id": "qaSTmANsY0m1",
        "colab": {
          "base_uri": "https://localhost:8080/",
          "height": 551
        },
        "outputId": "15c5c17a-ebcd-435e-decd-d456db6f774c"
      },
      "source": [
        "plt.figure(figsize= (12, 8));\n",
        "sns.countplot(taxi.month);\n",
        "sns.despine();"
      ],
      "execution_count": 61,
      "outputs": [
        {
          "output_type": "stream",
          "text": [
            "/usr/local/lib/python3.7/dist-packages/seaborn/_decorators.py:43: FutureWarning: Pass the following variable as a keyword arg: x. From version 0.12, the only valid positional argument will be `data`, and passing other arguments without an explicit keyword will result in an error or misinterpretation.\n",
            "  FutureWarning\n"
          ],
          "name": "stderr"
        },
        {
          "output_type": "display_data",
          "data": {
            "image/png": "[encoded data removed]",
            "text/plain": [
              "<Figure size 864x576 with 1 Axes>"
            ]
          },
          "metadata": {
            "tags": [],
            "needs_background": "light"
          }
        }
      ]
    },
    {
      "cell_type": "markdown",
      "metadata": {
        "id": "WXBVNWy2EKri"
      },
      "source": [
        "13) ⭐️Задание со звёздочкой!⭐️\n",
        "А теперь – график по дням недели (weekday). Задать порядок столбиков на графике можно с помощью аргумента order, которому нужно передать список названий в нужном порядке. Например: \n",
        "sns.countplot(data['column'], order=['One', 'Two', 'Three'])\n",
        "Вопрос: в какой день недели суммарно поступило меньше всего заказов?"
      ]
    },
    {
      "cell_type": "code",
      "metadata": {
        "id": "eH2iOJ_1ielZ",
        "colab": {
          "base_uri": "https://localhost:8080/",
          "height": 469
        },
        "outputId": "bd351a0f-3e68-4da4-a8b3-535dc5d1a729"
      },
      "source": [
        "plt.figure(figsize= (10, 6.5));\n",
        "sns.countplot(taxi.weekday);\n",
        "sns.despine();"
      ],
      "execution_count": 65,
      "outputs": [
        {
          "output_type": "stream",
          "text": [
            "/usr/local/lib/python3.7/dist-packages/seaborn/_decorators.py:43: FutureWarning: Pass the following variable as a keyword arg: x. From version 0.12, the only valid positional argument will be `data`, and passing other arguments without an explicit keyword will result in an error or misinterpretation.\n",
            "  FutureWarning\n"
          ],
          "name": "stderr"
        },
        {
          "output_type": "display_data",
          "data": {
            "image/png": "[encoded data removed]",
            "text/plain": [
              "<Figure size 720x468 with 1 Axes>"
            ]
          },
          "metadata": {
            "tags": [],
            "needs_background": "light"
          }
        }
      ]
    },
    {
      "cell_type": "code",
      "metadata": {
        "id": "sGJDq2_Kietf"
      },
      "source": [
        ""
      ],
      "execution_count": null,
      "outputs": []
    }
  ]
}