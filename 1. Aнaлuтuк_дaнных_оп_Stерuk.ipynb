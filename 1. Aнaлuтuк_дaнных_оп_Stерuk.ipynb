{
  "nbformat": 4,
  "nbformat_minor": 0,
  "metadata": {
    "colab": {
      "name": "Aнaлuтuк дaнных оп Stерuk.ipynb",
      "provenance": []
    },
    "kernelspec": {
      "name": "python3",
      "display_name": "Python 3"
    }
  },
  "cells": [
    {
      "cell_type": "markdown",
      "metadata": {
        "id": "tlnydEM21Url"
      },
      "source": [
        "**А вот и наш первый минипроект :)**"
      ]
    },
    {
      "cell_type": "code",
      "metadata": {
        "id": "c98v6-9Gm83r"
      },
      "source": [
        "import pandas as pd\n",
        "import numpy as np\n",
        "from datetime import datetime, date, time\n",
        "bookings = pd.read_csv('https://stepik.org/media/attachments/lesson/360344/bookings.csv', sep=';')\n",
        "bookings_head=bookings[:7]"
      ],
      "execution_count": 2,
      "outputs": []
    },
    {
      "cell_type": "markdown",
      "metadata": {
        "id": "tEFTI-NzOHjw"
      },
      "source": [
        "Как вы уже могли заметить, при сборе датасета произошла небольшая ошибка, и названия колонок были записаны в неудобном для дальнейшей работы формате. Исправьте ситуацию: приведите названия столбцов к нижнему регистру и замените пробелы на знак нижнего подчёркивания. Например: Is Canceled -> is_canceled"
      ]
    },
    {
      "cell_type": "code",
      "metadata": {
        "id": "teTtbcaHM636"
      },
      "source": [
        "bookings.columns = bookings.columns.str.lower()\n",
        "bookings.rename(columns=lambda x: x.replace(' ', '_'), inplace=True)"
      ],
      "execution_count": 3,
      "outputs": []
    },
    {
      "cell_type": "code",
      "metadata": {
        "colab": {
          "base_uri": "https://localhost:8080/",
          "height": 165
        },
        "id": "jqmvNk__MlXQ",
        "outputId": "094c2513-89b5-4588-b7f9-e6b4faab7040"
      },
      "source": [
        "bookings.head(2)"
      ],
      "execution_count": 5,
      "outputs": [
        {
          "output_type": "execute_result",
          "data": {
            "text/html": [
              "<div>\n",
              "<style scoped>\n",
              "    .dataframe tbody tr th:only-of-type {\n",
              "        vertical-align: middle;\n",
              "    }\n",
              "\n",
              "    .dataframe tbody tr th {\n",
              "        vertical-align: top;\n",
              "    }\n",
              "\n",
              "    .dataframe thead th {\n",
              "        text-align: right;\n",
              "    }\n",
              "</style>\n",
              "<table border=\"1\" class=\"dataframe\">\n",
              "  <thead>\n",
              "    <tr style=\"text-align: right;\">\n",
              "      <th></th>\n",
              "      <th>hotel</th>\n",
              "      <th>is_canceled</th>\n",
              "      <th>lead_time</th>\n",
              "      <th>arrival_full_date</th>\n",
              "      <th>arrival_date_year</th>\n",
              "      <th>arrival_date_month</th>\n",
              "      <th>arrival_date_week_number</th>\n",
              "      <th>arrival_date_day_of_month</th>\n",
              "      <th>stays_in_weekend_nights</th>\n",
              "      <th>stays_in_week_nights</th>\n",
              "      <th>stays_total_nights</th>\n",
              "      <th>adults</th>\n",
              "      <th>children</th>\n",
              "      <th>babies</th>\n",
              "      <th>meal</th>\n",
              "      <th>country</th>\n",
              "      <th>reserved_room_type</th>\n",
              "      <th>assigned_room_type</th>\n",
              "      <th>customer_type</th>\n",
              "      <th>reservation_status</th>\n",
              "      <th>reservation_status_date</th>\n",
              "    </tr>\n",
              "  </thead>\n",
              "  <tbody>\n",
              "    <tr>\n",
              "      <th>0</th>\n",
              "      <td>Resort Hotel</td>\n",
              "      <td>0</td>\n",
              "      <td>342</td>\n",
              "      <td>2015-07-01</td>\n",
              "      <td>2015</td>\n",
              "      <td>July</td>\n",
              "      <td>27</td>\n",
              "      <td>1</td>\n",
              "      <td>0</td>\n",
              "      <td>0</td>\n",
              "      <td>0</td>\n",
              "      <td>2</td>\n",
              "      <td>0.0</td>\n",
              "      <td>0</td>\n",
              "      <td>BB</td>\n",
              "      <td>PRT</td>\n",
              "      <td>C</td>\n",
              "      <td>C</td>\n",
              "      <td>Transient</td>\n",
              "      <td>Check-Out</td>\n",
              "      <td>2015-07-01</td>\n",
              "    </tr>\n",
              "    <tr>\n",
              "      <th>1</th>\n",
              "      <td>Resort Hotel</td>\n",
              "      <td>0</td>\n",
              "      <td>737</td>\n",
              "      <td>2015-07-01</td>\n",
              "      <td>2015</td>\n",
              "      <td>July</td>\n",
              "      <td>27</td>\n",
              "      <td>1</td>\n",
              "      <td>0</td>\n",
              "      <td>0</td>\n",
              "      <td>0</td>\n",
              "      <td>2</td>\n",
              "      <td>0.0</td>\n",
              "      <td>0</td>\n",
              "      <td>BB</td>\n",
              "      <td>PRT</td>\n",
              "      <td>C</td>\n",
              "      <td>C</td>\n",
              "      <td>Transient</td>\n",
              "      <td>Check-Out</td>\n",
              "      <td>2015-07-01</td>\n",
              "    </tr>\n",
              "  </tbody>\n",
              "</table>\n",
              "</div>"
            ],
            "text/plain": [
              "          hotel  is_canceled  ...  reservation_status reservation_status_date\n",
              "0  Resort Hotel            0  ...           Check-Out              2015-07-01\n",
              "1  Resort Hotel            0  ...           Check-Out              2015-07-01\n",
              "\n",
              "[2 rows x 21 columns]"
            ]
          },
          "metadata": {
            "tags": []
          },
          "execution_count": 5
        }
      ]
    },
    {
      "cell_type": "markdown",
      "metadata": {
        "id": "HLerAlfGNksr"
      },
      "source": [
        "Иногда тип номера, полученного клиентом (assigned_room_type), отличается от изначально забронированного (reserved_room_type). Такое может произойти, например, по причине овербукинга.\n",
        "\n",
        "Сколько подобных наблюдений встретилось в датасете?"
      ]
    },
    {
      "cell_type": "code",
      "metadata": {
        "id": "lhXURMv4Y0M8",
        "colab": {
          "base_uri": "https://localhost:8080/"
        },
        "outputId": "59e79d51-4ad4-4c24-db9e-bbcee1bf43bb"
      },
      "source": [
        "bookings.query('assigned_room_type != reserved_room_type').shape[0]"
      ],
      "execution_count": 6,
      "outputs": [
        {
          "output_type": "execute_result",
          "data": {
            "text/plain": [
              "14917"
            ]
          },
          "metadata": {
            "tags": []
          },
          "execution_count": 6
        }
      ]
    },
    {
      "cell_type": "code",
      "metadata": {
        "id": "xwZswukKY0Wt",
        "colab": {
          "base_uri": "https://localhost:8080/"
        },
        "outputId": "75b1bcec-8ce3-4f35-94a6-d11c3a449a5f"
      },
      "source": [
        "bookings.query('arrival_date_year == 2016').arrival_date_month.value_counts()\n",
        "#bookings.query('arrival_date_year == 2017').arrival_date_month.value_counts()"
      ],
      "execution_count": 7,
      "outputs": [
        {
          "output_type": "execute_result",
          "data": {
            "text/plain": [
              "October      6203\n",
              "May          5478\n",
              "April        5428\n",
              "September    5394\n",
              "June         5292\n",
              "August       5063\n",
              "March        4824\n",
              "July         4572\n",
              "November     4454\n",
              "February     3891\n",
              "December     3860\n",
              "January      2248\n",
              "Name: arrival_date_month, dtype: int64"
            ]
          },
          "metadata": {
            "tags": []
          },
          "execution_count": 7
        }
      ]
    },
    {
      "cell_type": "markdown",
      "metadata": {
        "id": "ciN5dpDYap4A"
      },
      "source": [
        "В 2016 чаще всего бронировали отель на октябрь\n",
        "В 2017 чаще всего оформляли бронирование на май"
      ]
    },
    {
      "cell_type": "markdown",
      "metadata": {
        "id": "DSFX7KeusNeR"
      },
      "source": [
        "Сгруппируйте данные по годам, а затем проверьте, на какой месяц (arrival_date_month) бронирования отеля типа City Hotel отменялись чаще всего в 2015? 2016? 2017? "
      ]
    },
    {
      "cell_type": "code",
      "metadata": {
        "colab": {
          "base_uri": "https://localhost:8080/"
        },
        "id": "w-A2lvWaayWF",
        "outputId": "654563de-0a39-4800-ea2c-fd9391f385f3"
      },
      "source": [
        "(\n",
        "    bookings.query('hotel == \"City Hotel\" and is_canceled == 1')\n",
        "      .groupby('arrival_date_year')\n",
        "      .arrival_date_month\n",
        "      .value_counts()\n",
        ")"
      ],
      "execution_count": 8,
      "outputs": [
        {
          "output_type": "execute_result",
          "data": {
            "text/plain": [
              "arrival_date_year  arrival_date_month\n",
              "2015               September             1543\n",
              "                   October               1321\n",
              "                   August                1232\n",
              "                   July                   939\n",
              "                   December               668\n",
              "                   November               301\n",
              "2016               October               1947\n",
              "                   June                  1720\n",
              "                   September             1567\n",
              "                   April                 1539\n",
              "                   May                   1436\n",
              "                   November              1360\n",
              "                   August                1247\n",
              "                   March                 1108\n",
              "                   December              1072\n",
              "                   July                  1043\n",
              "                   February               930\n",
              "                   January                438\n",
              "2017               May                   2217\n",
              "                   April                 1926\n",
              "                   June                  1808\n",
              "                   July                  1324\n",
              "                   March                 1278\n",
              "                   August                1123\n",
              "                   January               1044\n",
              "                   February               971\n",
              "Name: arrival_date_month, dtype: int64"
            ]
          },
          "metadata": {
            "tags": []
          },
          "execution_count": 8
        }
      ]
    },
    {
      "cell_type": "markdown",
      "metadata": {
        "id": "A8Xuo4SkibYA"
      },
      "source": [
        "Посмотрите на числовые характеристики трёх колонок: adults, children и babies. Какая из них имеет наибольшее среднее значение?"
      ]
    },
    {
      "cell_type": "code",
      "metadata": {
        "colab": {
          "base_uri": "https://localhost:8080/",
          "height": 35
        },
        "id": "-M99PpBpaytB",
        "outputId": "848ea360-0bcb-42c1-c09c-7ba484e7bb79"
      },
      "source": [
        "bookings[['adults', 'children', 'babies']].mean().idxmax()"
      ],
      "execution_count": 9,
      "outputs": [
        {
          "output_type": "execute_result",
          "data": {
            "application/vnd.google.colaboratory.intrinsic+json": {
              "type": "string"
            },
            "text/plain": [
              "'adults'"
            ]
          },
          "metadata": {
            "tags": []
          },
          "execution_count": 9
        }
      ]
    },
    {
      "cell_type": "markdown",
      "metadata": {
        "id": "SmLpMSjdr3rc"
      },
      "source": [
        "Создайте колонку total_kids, объединив столбцы children и babies. Для отелей какого типа среднее значение переменной оказалось наибольшим?\n",
        "\n",
        "City hotel – отель находится в городе\n",
        "Resort hotel – отель курортный\n",
        "В качестве ответа укажите наибольшее среднее total_kids, округлив до 2 знаков после точки."
      ]
    },
    {
      "cell_type": "code",
      "metadata": {
        "id": "l9q5sdp_ay50"
      },
      "source": [
        "bookings['total_kids'] = bookings['children'] + bookings['babies']"
      ],
      "execution_count": 13,
      "outputs": []
    },
    {
      "cell_type": "code",
      "metadata": {
        "id": "qaSTmANsY0m1",
        "colab": {
          "base_uri": "https://localhost:8080/"
        },
        "outputId": "8c4901b8-a2d1-4db5-994a-ca4395e275d0"
      },
      "source": [
        "bookings.groupby('hotel').agg({'total_kids': 'mean'}).round(2).max()"
      ],
      "execution_count": 23,
      "outputs": [
        {
          "output_type": "execute_result",
          "data": {
            "text/plain": [
              "total_kids    0.14\n",
              "dtype: float64"
            ]
          },
          "metadata": {
            "tags": []
          },
          "execution_count": 23
        }
      ]
    },
    {
      "cell_type": "markdown",
      "metadata": {
        "id": "eGR4k9N5sm3p"
      },
      "source": [
        "Не все бронирования завершились успешно (is_canceled), поэтому можно посчитать, сколько клиентов было потеряно в процессе. Churn rate (отток, коэффициент оттока) – это процент подписчиков (например, на push-уведомления от сайта), которые отписались от канала коммуникации, отказались от услуг сервиса в течение определенного периода времени. Иными словами, представляет собой отношение количества ушедших пользователей к общему количеству пользователей, выраженное в процентах.\n",
        "\n",
        "Создайте переменную has_kids, которая принимает значение True, если клиент при бронировании указал хотя бы одного ребенка (total_kids), в противном случае – False. Далее проверьте, среди какой группы пользователей показатель оттока выше. \n",
        "\n",
        "В качестве ответа укажите наибольший %, округленный до 2 знаков после точки (то есть доля 0.24563 будет 24.56% и в ответ пойдёт 24.56)"
      ]
    },
    {
      "cell_type": "code",
      "metadata": {
        "colab": {
          "base_uri": "https://localhost:8080/"
        },
        "id": "c89vbxgXieCm",
        "outputId": "d6b55e6d-050d-418b-818f-7276e25247ef"
      },
      "source": [
        "bookings['has_kids'] = bookings.total_kids > 0 \n",
        "bookings['has_kids']"
      ],
      "execution_count": 33,
      "outputs": [
        {
          "output_type": "execute_result",
          "data": {
            "text/plain": [
              "0         False\n",
              "1         False\n",
              "2         False\n",
              "3         False\n",
              "4         False\n",
              "          ...  \n",
              "119385    False\n",
              "119386    False\n",
              "119387    False\n",
              "119388    False\n",
              "119389    False\n",
              "Name: has_kids, Length: 119390, dtype: bool"
            ]
          },
          "metadata": {
            "tags": []
          },
          "execution_count": 33
        }
      ]
    },
    {
      "cell_type": "code",
      "metadata": {
        "colab": {
          "base_uri": "https://localhost:8080/"
        },
        "id": "mMK1Wce7ieJ1",
        "outputId": "6d180c7e-1dcb-461a-b2ce-a29759abcd9b"
      },
      "source": [
        "no_kids_churn_rate  = bookings.query('is_canceled == 1 and has_kids == False').shape[0] / bookings.query('has_kids == False').shape[0]\n",
        "print( round(no_kids_churn_rate * 100, 2))"
      ],
      "execution_count": 40,
      "outputs": [
        {
          "output_type": "stream",
          "text": [
            "37.22\n"
          ],
          "name": "stdout"
        }
      ]
    },
    {
      "cell_type": "code",
      "metadata": {
        "colab": {
          "base_uri": "https://localhost:8080/"
        },
        "id": "h0QEDFHpieU3",
        "outputId": "169e469e-c06c-453d-dfcc-a674a5ed0288"
      },
      "source": [
        "has_kids_churn_rate  = bookings.query('is_canceled == 1 and has_kids == True').shape[0] / bookings.query('has_kids == True').shape[0]\n",
        "print( round(has_kids_churn_rate * 100, 2))"
      ],
      "execution_count": 41,
      "outputs": [
        {
          "output_type": "stream",
          "text": [
            "34.92\n"
          ],
          "name": "stdout"
        }
      ]
    },
    {
      "cell_type": "code",
      "metadata": {
        "id": "1UqtmrHFiedi"
      },
      "source": [
        ""
      ],
      "execution_count": null,
      "outputs": []
    },
    {
      "cell_type": "code",
      "metadata": {
        "id": "eH2iOJ_1ielZ"
      },
      "source": [
        ""
      ],
      "execution_count": null,
      "outputs": []
    },
    {
      "cell_type": "code",
      "metadata": {
        "id": "sGJDq2_Kietf"
      },
      "source": [
        ""
      ],
      "execution_count": null,
      "outputs": []
    }
  ]
}