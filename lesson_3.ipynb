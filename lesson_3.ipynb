{
  "nbformat": 4,
  "nbformat_minor": 0,
  "metadata": {
    "kernelspec": {
      "display_name": "Python 3",
      "language": "python",
      "name": "python3"
    },
    "language_info": {
      "codemirror_mode": {
        "name": "ipython",
        "version": 3
      },
      "file_extension": ".py",
      "mimetype": "text/x-python",
      "name": "python",
      "nbconvert_exporter": "python",
      "pygments_lexer": "ipython3",
      "version": "3.7.3"
    },
    "colab": {
      "name": "lesson_3.ipynb",
      "provenance": [],
      "include_colab_link": true
    }
  },
  "cells": [
    {
      "cell_type": "markdown",
      "metadata": {
        "id": "view-in-github",
        "colab_type": "text"
      },
      "source": [
        "<a href=\"https://colab.research.google.com/github/OlegDenisenko/Data-analyst-Step1k/blob/main/lesson_3.ipynb\" target=\"_parent\"><img src=\"https://colab.research.google.com/assets/colab-badge.svg\" alt=\"Open In Colab\"/></a>"
      ]
    },
    {
      "cell_type": "code",
      "metadata": {
        "id": "u9x-f8NOXwtK"
      },
      "source": [
        "import pandas as pd\n",
        "import seaborn as sns\n",
        "import matplotlib.pyplot as plt\n",
        "\n",
        "%matplotlib inline "
      ],
      "execution_count": 2,
      "outputs": []
    },
    {
      "cell_type": "code",
      "metadata": {
        "id": "sOQkdkpwXwtv"
      },
      "source": [
        "df = pd.read_csv('/content/sample_data/lesson_3_data__1_.csv', encoding='windows-1251')"
      ],
      "execution_count": 4,
      "outputs": []
    },
    {
      "cell_type": "code",
      "metadata": {
        "colab": {
          "base_uri": "https://localhost:8080/",
          "height": 233
        },
        "id": "mloKLZJuXwt0",
        "outputId": "1974d34a-e5cb-4068-98b7-3820154c296b"
      },
      "source": [
        "df.head(2)"
      ],
      "execution_count": 5,
      "outputs": [
        {
          "output_type": "execute_result",
          "data": {
            "text/html": [
              "<div>\n",
              "<style scoped>\n",
              "    .dataframe tbody tr th:only-of-type {\n",
              "        vertical-align: middle;\n",
              "    }\n",
              "\n",
              "    .dataframe tbody tr th {\n",
              "        vertical-align: top;\n",
              "    }\n",
              "\n",
              "    .dataframe thead th {\n",
              "        text-align: right;\n",
              "    }\n",
              "</style>\n",
              "<table border=\"1\" class=\"dataframe\">\n",
              "  <thead>\n",
              "    <tr style=\"text-align: right;\">\n",
              "      <th></th>\n",
              "      <th>Unnamed: 0</th>\n",
              "      <th>tk</th>\n",
              "      <th>pl</th>\n",
              "      <th>dia</th>\n",
              "      <th>hs</th>\n",
              "      <th>tc</th>\n",
              "      <th>cta</th>\n",
              "      <th>id_art</th>\n",
              "      <th>id_subsubfam</th>\n",
              "      <th>id_subfam</th>\n",
              "      <th>id_fam</th>\n",
              "      <th>id_famn</th>\n",
              "      <th>id_seccion</th>\n",
              "      <th>id_subagr</th>\n",
              "      <th>id_agr</th>\n",
              "      <th>vta</th>\n",
              "      <th>uni</th>\n",
              "      <th>id_artn</th>\n",
              "      <th>art_sp</th>\n",
              "      <th>fam_sp</th>\n",
              "      <th>fam_en</th>\n",
              "    </tr>\n",
              "  </thead>\n",
              "  <tbody>\n",
              "    <tr>\n",
              "      <th>0</th>\n",
              "      <td>1242</td>\n",
              "      <td>120071109002055793</td>\n",
              "      <td>1</td>\n",
              "      <td>2007/11/09</td>\n",
              "      <td>0.505729</td>\n",
              "      <td>110000761.0</td>\n",
              "      <td>11000076.0</td>\n",
              "      <td>21895.0</td>\n",
              "      <td>1.010706e+11</td>\n",
              "      <td>1.010706e+09</td>\n",
              "      <td>10107064.0</td>\n",
              "      <td>10107064.0</td>\n",
              "      <td>10107.0</td>\n",
              "      <td>101.0</td>\n",
              "      <td>1.0</td>\n",
              "      <td>0.68</td>\n",
              "      <td>1.0</td>\n",
              "      <td>21895.0</td>\n",
              "      <td>MARAVILLA        500 G Store_Brand</td>\n",
              "      <td>PASTA ALIMENTICIA SE</td>\n",
              "      <td>pasta</td>\n",
              "    </tr>\n",
              "    <tr>\n",
              "      <th>1</th>\n",
              "      <td>1243</td>\n",
              "      <td>120070601004053633</td>\n",
              "      <td>1</td>\n",
              "      <td>2007/06/01</td>\n",
              "      <td>0.588519</td>\n",
              "      <td>110000761.0</td>\n",
              "      <td>11000076.0</td>\n",
              "      <td>21816.0</td>\n",
              "      <td>1.010706e+11</td>\n",
              "      <td>1.010706e+09</td>\n",
              "      <td>10107064.0</td>\n",
              "      <td>10107064.0</td>\n",
              "      <td>10107.0</td>\n",
              "      <td>101.0</td>\n",
              "      <td>1.0</td>\n",
              "      <td>0.38</td>\n",
              "      <td>1.0</td>\n",
              "      <td>21816.0</td>\n",
              "      <td>FIDEO CABELLIN   500 G Store_Brand</td>\n",
              "      <td>PASTA ALIMENTICIA SE</td>\n",
              "      <td>pasta</td>\n",
              "    </tr>\n",
              "  </tbody>\n",
              "</table>\n",
              "</div>"
            ],
            "text/plain": [
              "   Unnamed: 0                  tk  ...                fam_sp fam_en\n",
              "0        1242  120071109002055793  ...  PASTA ALIMENTICIA SE  pasta\n",
              "1        1243  120070601004053633  ...  PASTA ALIMENTICIA SE  pasta\n",
              "\n",
              "[2 rows x 21 columns]"
            ]
          },
          "metadata": {
            "tags": []
          },
          "execution_count": 5
        }
      ]
    },
    {
      "cell_type": "code",
      "metadata": {
        "id": "a_fdM2vfXwuD"
      },
      "source": [
        "user_df = df[['tc', 'art_sp']]"
      ],
      "execution_count": 6,
      "outputs": []
    },
    {
      "cell_type": "code",
      "metadata": {
        "colab": {
          "base_uri": "https://localhost:8080/",
          "height": 419
        },
        "id": "VIaswj3QXwuH",
        "outputId": "62ef64ed-e538-400e-95d8-02a710cfa703"
      },
      "source": [
        "user_df"
      ],
      "execution_count": 7,
      "outputs": [
        {
          "output_type": "execute_result",
          "data": {
            "text/html": [
              "<div>\n",
              "<style scoped>\n",
              "    .dataframe tbody tr th:only-of-type {\n",
              "        vertical-align: middle;\n",
              "    }\n",
              "\n",
              "    .dataframe tbody tr th {\n",
              "        vertical-align: top;\n",
              "    }\n",
              "\n",
              "    .dataframe thead th {\n",
              "        text-align: right;\n",
              "    }\n",
              "</style>\n",
              "<table border=\"1\" class=\"dataframe\">\n",
              "  <thead>\n",
              "    <tr style=\"text-align: right;\">\n",
              "      <th></th>\n",
              "      <th>tc</th>\n",
              "      <th>art_sp</th>\n",
              "    </tr>\n",
              "  </thead>\n",
              "  <tbody>\n",
              "    <tr>\n",
              "      <th>0</th>\n",
              "      <td>110000761.0</td>\n",
              "      <td>MARAVILLA        500 G Store_Brand</td>\n",
              "    </tr>\n",
              "    <tr>\n",
              "      <th>1</th>\n",
              "      <td>110000761.0</td>\n",
              "      <td>FIDEO CABELLIN   500 G Store_Brand</td>\n",
              "    </tr>\n",
              "    <tr>\n",
              "      <th>2</th>\n",
              "      <td>28491841.0</td>\n",
              "      <td>SPAGUETTI Nє 5 500 G Brand_1</td>\n",
              "    </tr>\n",
              "    <tr>\n",
              "      <th>3</th>\n",
              "      <td>95931501.0</td>\n",
              "      <td>FIDEO FIDEUБ      500 Brand_7</td>\n",
              "    </tr>\n",
              "    <tr>\n",
              "      <th>4</th>\n",
              "      <td>93265591.0</td>\n",
              "      <td>MACARRONES  GRATINAR 5 Brand_2</td>\n",
              "    </tr>\n",
              "    <tr>\n",
              "      <th>...</th>\n",
              "      <td>...</td>\n",
              "      <td>...</td>\n",
              "    </tr>\n",
              "    <tr>\n",
              "      <th>12469</th>\n",
              "      <td>94641851.0</td>\n",
              "      <td>SPAGHETTI        500 G Store_Brand</td>\n",
              "    </tr>\n",
              "    <tr>\n",
              "      <th>12470</th>\n",
              "      <td>14390431.0</td>\n",
              "      <td>PLUMAS 6         500 G Brand_4</td>\n",
              "    </tr>\n",
              "    <tr>\n",
              "      <th>12471</th>\n",
              "      <td>94622221.0</td>\n",
              "      <td>TALLARINES       500 G Brand_3</td>\n",
              "    </tr>\n",
              "    <tr>\n",
              "      <th>12472</th>\n",
              "      <td>14390431.0</td>\n",
              "      <td>PIСONES          500 G Brand_4</td>\n",
              "    </tr>\n",
              "    <tr>\n",
              "      <th>12473</th>\n",
              "      <td>NaN</td>\n",
              "      <td>NaN</td>\n",
              "    </tr>\n",
              "  </tbody>\n",
              "</table>\n",
              "<p>12474 rows × 2 columns</p>\n",
              "</div>"
            ],
            "text/plain": [
              "                tc                              art_sp\n",
              "0      110000761.0  MARAVILLA        500 G Store_Brand\n",
              "1      110000761.0  FIDEO CABELLIN   500 G Store_Brand\n",
              "2       28491841.0        SPAGUETTI Nє 5 500 G Brand_1\n",
              "3       95931501.0       FIDEO FIDEUБ      500 Brand_7\n",
              "4       93265591.0      MACARRONES  GRATINAR 5 Brand_2\n",
              "...            ...                                 ...\n",
              "12469   94641851.0  SPAGHETTI        500 G Store_Brand\n",
              "12470   14390431.0      PLUMAS 6         500 G Brand_4\n",
              "12471   94622221.0      TALLARINES       500 G Brand_3\n",
              "12472   14390431.0      PIСONES          500 G Brand_4\n",
              "12473          NaN                                 NaN\n",
              "\n",
              "[12474 rows x 2 columns]"
            ]
          },
          "metadata": {
            "tags": []
          },
          "execution_count": 7
        }
      ]
    },
    {
      "cell_type": "code",
      "metadata": {
        "id": "qzAt1DsRXwuM"
      },
      "source": [
        "user_df = user_df.rename(columns={'tc': 'user_id', 'art_sp': 'brand_info'})"
      ],
      "execution_count": 8,
      "outputs": []
    },
    {
      "cell_type": "code",
      "metadata": {
        "colab": {
          "base_uri": "https://localhost:8080/",
          "height": 142
        },
        "id": "CEB_AcHzXwuR",
        "outputId": "450c9954-bf80-4f4b-aa48-c64426cb3bf0"
      },
      "source": [
        "user_df.head(3)"
      ],
      "execution_count": 9,
      "outputs": [
        {
          "output_type": "execute_result",
          "data": {
            "text/html": [
              "<div>\n",
              "<style scoped>\n",
              "    .dataframe tbody tr th:only-of-type {\n",
              "        vertical-align: middle;\n",
              "    }\n",
              "\n",
              "    .dataframe tbody tr th {\n",
              "        vertical-align: top;\n",
              "    }\n",
              "\n",
              "    .dataframe thead th {\n",
              "        text-align: right;\n",
              "    }\n",
              "</style>\n",
              "<table border=\"1\" class=\"dataframe\">\n",
              "  <thead>\n",
              "    <tr style=\"text-align: right;\">\n",
              "      <th></th>\n",
              "      <th>user_id</th>\n",
              "      <th>brand_info</th>\n",
              "    </tr>\n",
              "  </thead>\n",
              "  <tbody>\n",
              "    <tr>\n",
              "      <th>0</th>\n",
              "      <td>110000761.0</td>\n",
              "      <td>MARAVILLA        500 G Store_Brand</td>\n",
              "    </tr>\n",
              "    <tr>\n",
              "      <th>1</th>\n",
              "      <td>110000761.0</td>\n",
              "      <td>FIDEO CABELLIN   500 G Store_Brand</td>\n",
              "    </tr>\n",
              "    <tr>\n",
              "      <th>2</th>\n",
              "      <td>28491841.0</td>\n",
              "      <td>SPAGUETTI Nє 5 500 G Brand_1</td>\n",
              "    </tr>\n",
              "  </tbody>\n",
              "</table>\n",
              "</div>"
            ],
            "text/plain": [
              "       user_id                          brand_info\n",
              "0  110000761.0  MARAVILLA        500 G Store_Brand\n",
              "1  110000761.0  FIDEO CABELLIN   500 G Store_Brand\n",
              "2   28491841.0        SPAGUETTI Nє 5 500 G Brand_1"
            ]
          },
          "metadata": {
            "tags": []
          },
          "execution_count": 9
        }
      ]
    },
    {
      "cell_type": "code",
      "metadata": {
        "id": "1xzOopOdXwuX"
      },
      "source": [
        "def split_brand(brand_name_data):\n",
        "    return brand_name_data.split(' ')[-1]"
      ],
      "execution_count": 23,
      "outputs": []
    },
    {
      "cell_type": "code",
      "metadata": {
        "id": "wi3q4XfKXwug"
      },
      "source": [
        "brnad_name = 'MARAVILLA 500 G Store_Brand'"
      ],
      "execution_count": 11,
      "outputs": []
    },
    {
      "cell_type": "code",
      "metadata": {
        "colab": {
          "base_uri": "https://localhost:8080/",
          "height": 35
        },
        "id": "ZtS5tON3Xwuj",
        "outputId": "ab4bde0d-70bb-4844-a681-e33fa8cd60c2"
      },
      "source": [
        "brnad_name.split(' ')[-1]"
      ],
      "execution_count": 12,
      "outputs": [
        {
          "output_type": "execute_result",
          "data": {
            "application/vnd.google.colaboratory.intrinsic+json": {
              "type": "string"
            },
            "text/plain": [
              "'Store_Brand'"
            ]
          },
          "metadata": {
            "tags": []
          },
          "execution_count": 12
        }
      ]
    },
    {
      "cell_type": "code",
      "metadata": {
        "colab": {
          "base_uri": "https://localhost:8080/"
        },
        "id": "3gk2OxL1fCyh",
        "outputId": "a9a24f57-8a18-4fc0-a9fd-c6e614bf0aad"
      },
      "source": [
        "user_df.brand_info"
      ],
      "execution_count": 33,
      "outputs": [
        {
          "output_type": "execute_result",
          "data": {
            "text/plain": [
              "0        MARAVILLA        500 G Store_Brand\n",
              "1        FIDEO CABELLIN   500 G Store_Brand\n",
              "2              SPAGUETTI Nє 5 500 G Brand_1\n",
              "3             FIDEO FIDEUБ      500 Brand_7\n",
              "4            MACARRONES  GRATINAR 5 Brand_2\n",
              "                        ...                \n",
              "12469    SPAGHETTI        500 G Store_Brand\n",
              "12470        PLUMAS 6         500 G Brand_4\n",
              "12471        TALLARINES       500 G Brand_3\n",
              "12472        PIСONES          500 G Brand_4\n",
              "12473                                   NaN\n",
              "Name: brand_info, Length: 12474, dtype: object"
            ]
          },
          "metadata": {
            "tags": []
          },
          "execution_count": 33
        }
      ]
    },
    {
      "cell_type": "code",
      "metadata": {
        "id": "QJPGdLmiXwuo"
      },
      "source": [
        "user_df['brand_name'] = user_df.brand_info.astype(str).apply(split_brand)"
      ],
      "execution_count": 36,
      "outputs": []
    },
    {
      "cell_type": "code",
      "metadata": {
        "id": "siiFgxY2Xwus"
      },
      "source": [
        "# user_df['brand_name'] = user_df.brand_info.apply(lambda x: x.split(' ')[-1])\n",
        "# используем lambda функцию, чтобы разрезать строку по пробелу и взять последний элемент"
      ],
      "execution_count": 20,
      "outputs": []
    },
    {
      "cell_type": "code",
      "metadata": {
        "colab": {
          "base_uri": "https://localhost:8080/",
          "height": 204
        },
        "id": "rCHycngFXwuw",
        "outputId": "9aa701bd-7497-4486-bfec-6300826b1040"
      },
      "source": [
        "user_df.head()"
      ],
      "execution_count": 37,
      "outputs": [
        {
          "output_type": "execute_result",
          "data": {
            "text/html": [
              "<div>\n",
              "<style scoped>\n",
              "    .dataframe tbody tr th:only-of-type {\n",
              "        vertical-align: middle;\n",
              "    }\n",
              "\n",
              "    .dataframe tbody tr th {\n",
              "        vertical-align: top;\n",
              "    }\n",
              "\n",
              "    .dataframe thead th {\n",
              "        text-align: right;\n",
              "    }\n",
              "</style>\n",
              "<table border=\"1\" class=\"dataframe\">\n",
              "  <thead>\n",
              "    <tr style=\"text-align: right;\">\n",
              "      <th></th>\n",
              "      <th>user_id</th>\n",
              "      <th>brand_info</th>\n",
              "      <th>brand_name</th>\n",
              "    </tr>\n",
              "  </thead>\n",
              "  <tbody>\n",
              "    <tr>\n",
              "      <th>0</th>\n",
              "      <td>110000761.0</td>\n",
              "      <td>MARAVILLA        500 G Store_Brand</td>\n",
              "      <td>Store_Brand</td>\n",
              "    </tr>\n",
              "    <tr>\n",
              "      <th>1</th>\n",
              "      <td>110000761.0</td>\n",
              "      <td>FIDEO CABELLIN   500 G Store_Brand</td>\n",
              "      <td>Store_Brand</td>\n",
              "    </tr>\n",
              "    <tr>\n",
              "      <th>2</th>\n",
              "      <td>28491841.0</td>\n",
              "      <td>SPAGUETTI Nє 5 500 G Brand_1</td>\n",
              "      <td>Brand_1</td>\n",
              "    </tr>\n",
              "    <tr>\n",
              "      <th>3</th>\n",
              "      <td>95931501.0</td>\n",
              "      <td>FIDEO FIDEUБ      500 Brand_7</td>\n",
              "      <td>Brand_7</td>\n",
              "    </tr>\n",
              "    <tr>\n",
              "      <th>4</th>\n",
              "      <td>93265591.0</td>\n",
              "      <td>MACARRONES  GRATINAR 5 Brand_2</td>\n",
              "      <td>Brand_2</td>\n",
              "    </tr>\n",
              "  </tbody>\n",
              "</table>\n",
              "</div>"
            ],
            "text/plain": [
              "       user_id                          brand_info   brand_name\n",
              "0  110000761.0  MARAVILLA        500 G Store_Brand  Store_Brand\n",
              "1  110000761.0  FIDEO CABELLIN   500 G Store_Brand  Store_Brand\n",
              "2   28491841.0        SPAGUETTI Nє 5 500 G Brand_1      Brand_1\n",
              "3   95931501.0       FIDEO FIDEUБ      500 Brand_7      Brand_7\n",
              "4   93265591.0      MACARRONES  GRATINAR 5 Brand_2      Brand_2"
            ]
          },
          "metadata": {
            "tags": []
          },
          "execution_count": 37
        }
      ]
    },
    {
      "cell_type": "markdown",
      "metadata": {
        "id": "_02BEtW3TjIF"
      },
      "source": [
        "Сколько пользователи делают покупок всего, Отбираем только тех, у которых больше 5 покупок"
      ]
    },
    {
      "cell_type": "code",
      "metadata": {
        "id": "SE6T9h7IXwu0"
      },
      "source": [
        "users_purchases = user_df.groupby('user_id', as_index=False) \\\n",
        "    .agg({'brand_name': 'count'}) \\\n",
        "    .rename(columns={'brand_name': 'purchases'}) \\\n",
        "    .query('purchases >= 5')"
      ],
      "execution_count": 38,
      "outputs": []
    },
    {
      "cell_type": "markdown",
      "metadata": {
        "id": "CXrj4HZGT-Rp"
      },
      "source": [
        "Считаем число уникальных брендов"
      ]
    },
    {
      "cell_type": "code",
      "metadata": {
        "id": "mjIAz6xxXwu5"
      },
      "source": [
        "users_unique_brands = user_df.groupby('user_id', as_index=False) \\\n",
        "    .agg({'brand_name': pd.Series.nunique}) \\\n",
        "    .rename(columns={'brand_name': 'unique_brands'})"
      ],
      "execution_count": 39,
      "outputs": []
    },
    {
      "cell_type": "markdown",
      "metadata": {
        "id": "zCtd5Iq-UEuB"
      },
      "source": [
        "Для каждого пользователя считаем, сколько покупок приходится на его любимый бренд"
      ]
    },
    {
      "cell_type": "code",
      "metadata": {
        "id": "GXvsyN2HXwu9"
      },
      "source": [
        "lovely_brand_purchases_df = user_df.groupby(['user_id', 'brand_name'], as_index=False) \\\n",
        "    .agg({'brand_info': 'count'}) \\\n",
        "    .sort_values(['user_id', 'brand_info'], ascending=[False, False]) \\\n",
        "    .groupby('user_id') \\\n",
        "    .head(1) \\\n",
        "    .rename(columns={'brand_name': 'lovely_brand','brand_info': 'lovely_brand_purchases'})"
      ],
      "execution_count": 40,
      "outputs": []
    },
    {
      "cell_type": "code",
      "metadata": {
        "id": "sda1uSI5XwvB"
      },
      "source": [
        "loyalty_df = users_purchases \\\n",
        "    .merge(users_unique_brands, on='user_id') \\\n",
        "    .merge(lovely_brand_purchases_df, on='user_id')"
      ],
      "execution_count": 41,
      "outputs": []
    },
    {
      "cell_type": "code",
      "metadata": {
        "id": "-LkvjdGgXwvE",
        "colab": {
          "base_uri": "https://localhost:8080/",
          "height": 204
        },
        "outputId": "732b539b-395f-41af-e223-cdb6ee651214"
      },
      "source": [
        "loyalty_df.head()"
      ],
      "execution_count": 42,
      "outputs": [
        {
          "output_type": "execute_result",
          "data": {
            "text/html": [
              "<div>\n",
              "<style scoped>\n",
              "    .dataframe tbody tr th:only-of-type {\n",
              "        vertical-align: middle;\n",
              "    }\n",
              "\n",
              "    .dataframe tbody tr th {\n",
              "        vertical-align: top;\n",
              "    }\n",
              "\n",
              "    .dataframe thead th {\n",
              "        text-align: right;\n",
              "    }\n",
              "</style>\n",
              "<table border=\"1\" class=\"dataframe\">\n",
              "  <thead>\n",
              "    <tr style=\"text-align: right;\">\n",
              "      <th></th>\n",
              "      <th>user_id</th>\n",
              "      <th>purchases</th>\n",
              "      <th>unique_brands</th>\n",
              "      <th>lovely_brand</th>\n",
              "      <th>lovely_brand_purchases</th>\n",
              "    </tr>\n",
              "  </thead>\n",
              "  <tbody>\n",
              "    <tr>\n",
              "      <th>0</th>\n",
              "      <td>4241.0</td>\n",
              "      <td>5</td>\n",
              "      <td>2</td>\n",
              "      <td>Brand_4</td>\n",
              "      <td>3</td>\n",
              "    </tr>\n",
              "    <tr>\n",
              "      <th>1</th>\n",
              "      <td>40911.0</td>\n",
              "      <td>27</td>\n",
              "      <td>5</td>\n",
              "      <td>Brand_4</td>\n",
              "      <td>19</td>\n",
              "    </tr>\n",
              "    <tr>\n",
              "      <th>2</th>\n",
              "      <td>63001.0</td>\n",
              "      <td>6</td>\n",
              "      <td>2</td>\n",
              "      <td>Brand_4</td>\n",
              "      <td>5</td>\n",
              "    </tr>\n",
              "    <tr>\n",
              "      <th>3</th>\n",
              "      <td>63441.0</td>\n",
              "      <td>6</td>\n",
              "      <td>2</td>\n",
              "      <td>Store_Brand</td>\n",
              "      <td>4</td>\n",
              "    </tr>\n",
              "    <tr>\n",
              "      <th>4</th>\n",
              "      <td>64121.0</td>\n",
              "      <td>5</td>\n",
              "      <td>3</td>\n",
              "      <td>Brand_3</td>\n",
              "      <td>2</td>\n",
              "    </tr>\n",
              "  </tbody>\n",
              "</table>\n",
              "</div>"
            ],
            "text/plain": [
              "   user_id  purchases  unique_brands lovely_brand  lovely_brand_purchases\n",
              "0   4241.0          5              2      Brand_4                       3\n",
              "1  40911.0         27              5      Brand_4                      19\n",
              "2  63001.0          6              2      Brand_4                       5\n",
              "3  63441.0          6              2  Store_Brand                       4\n",
              "4  64121.0          5              3      Brand_3                       2"
            ]
          },
          "metadata": {
            "tags": []
          },
          "execution_count": 42
        }
      ]
    },
    {
      "cell_type": "code",
      "metadata": {
        "id": "4jTbixZbXwvH"
      },
      "source": [
        "loyal_users = loyalty_df[loyalty_df.unique_brands == 1]"
      ],
      "execution_count": 43,
      "outputs": []
    },
    {
      "cell_type": "markdown",
      "metadata": {
        "id": "P5H30CGQm8Ov"
      },
      "source": [
        "Показатель лояльности каждого клиента"
      ]
    },
    {
      "cell_type": "code",
      "metadata": {
        "id": "CHITvIA0XwvK"
      },
      "source": [
        "loyalty_df['loyalty_score'] = loyalty_df.lovely_brand_purchases / loyalty_df.purchases"
      ],
      "execution_count": 44,
      "outputs": []
    },
    {
      "cell_type": "code",
      "metadata": {
        "id": "p8_bdkFAXwvM",
        "colab": {
          "base_uri": "https://localhost:8080/",
          "height": 204
        },
        "outputId": "34b22a89-da9c-4c98-b86b-fd2347ffa7c5"
      },
      "source": [
        "loyalty_df.head()"
      ],
      "execution_count": 45,
      "outputs": [
        {
          "output_type": "execute_result",
          "data": {
            "text/html": [
              "<div>\n",
              "<style scoped>\n",
              "    .dataframe tbody tr th:only-of-type {\n",
              "        vertical-align: middle;\n",
              "    }\n",
              "\n",
              "    .dataframe tbody tr th {\n",
              "        vertical-align: top;\n",
              "    }\n",
              "\n",
              "    .dataframe thead th {\n",
              "        text-align: right;\n",
              "    }\n",
              "</style>\n",
              "<table border=\"1\" class=\"dataframe\">\n",
              "  <thead>\n",
              "    <tr style=\"text-align: right;\">\n",
              "      <th></th>\n",
              "      <th>user_id</th>\n",
              "      <th>purchases</th>\n",
              "      <th>unique_brands</th>\n",
              "      <th>lovely_brand</th>\n",
              "      <th>lovely_brand_purchases</th>\n",
              "      <th>loyalty_score</th>\n",
              "    </tr>\n",
              "  </thead>\n",
              "  <tbody>\n",
              "    <tr>\n",
              "      <th>0</th>\n",
              "      <td>4241.0</td>\n",
              "      <td>5</td>\n",
              "      <td>2</td>\n",
              "      <td>Brand_4</td>\n",
              "      <td>3</td>\n",
              "      <td>0.600000</td>\n",
              "    </tr>\n",
              "    <tr>\n",
              "      <th>1</th>\n",
              "      <td>40911.0</td>\n",
              "      <td>27</td>\n",
              "      <td>5</td>\n",
              "      <td>Brand_4</td>\n",
              "      <td>19</td>\n",
              "      <td>0.703704</td>\n",
              "    </tr>\n",
              "    <tr>\n",
              "      <th>2</th>\n",
              "      <td>63001.0</td>\n",
              "      <td>6</td>\n",
              "      <td>2</td>\n",
              "      <td>Brand_4</td>\n",
              "      <td>5</td>\n",
              "      <td>0.833333</td>\n",
              "    </tr>\n",
              "    <tr>\n",
              "      <th>3</th>\n",
              "      <td>63441.0</td>\n",
              "      <td>6</td>\n",
              "      <td>2</td>\n",
              "      <td>Store_Brand</td>\n",
              "      <td>4</td>\n",
              "      <td>0.666667</td>\n",
              "    </tr>\n",
              "    <tr>\n",
              "      <th>4</th>\n",
              "      <td>64121.0</td>\n",
              "      <td>5</td>\n",
              "      <td>3</td>\n",
              "      <td>Brand_3</td>\n",
              "      <td>2</td>\n",
              "      <td>0.400000</td>\n",
              "    </tr>\n",
              "  </tbody>\n",
              "</table>\n",
              "</div>"
            ],
            "text/plain": [
              "   user_id  purchases  ...  lovely_brand_purchases loyalty_score\n",
              "0   4241.0          5  ...                       3      0.600000\n",
              "1  40911.0         27  ...                      19      0.703704\n",
              "2  63001.0          6  ...                       5      0.833333\n",
              "3  63441.0          6  ...                       4      0.666667\n",
              "4  64121.0          5  ...                       2      0.400000\n",
              "\n",
              "[5 rows x 6 columns]"
            ]
          },
          "metadata": {
            "tags": []
          },
          "execution_count": 45
        }
      ]
    },
    {
      "cell_type": "code",
      "metadata": {
        "id": "CY_Jx8mLXwvS",
        "colab": {
          "base_uri": "https://localhost:8080/",
          "height": 369
        },
        "outputId": "f768c8e3-c303-44b5-97b3-53c2c99360f7"
      },
      "source": [
        "ax = sns.displot(loyalty_df.loyalty_score, kde=False)"
      ],
      "execution_count": 49,
      "outputs": [
        {
          "output_type": "display_data",
          "data": {
            "image/png": "[encoded data removed]",
            "text/plain": [
              "<Figure size 360x360 with 1 Axes>"
            ]
          },
          "metadata": {
            "tags": [],
            "needs_background": "light"
          }
        }
      ]
    },
    {
      "cell_type": "code",
      "metadata": {
        "id": "FY0krz7uXwvd"
      },
      "source": [
        "brands_loyalty = loyalty_df.groupby('lovely_brand', as_index=False) \\\n",
        "    .agg({'loyalty_score': 'median', 'user_id': 'count'}) "
      ],
      "execution_count": 50,
      "outputs": []
    },
    {
      "cell_type": "code",
      "metadata": {
        "id": "UlYYs978Xwvg",
        "colab": {
          "base_uri": "https://localhost:8080/",
          "height": 281
        },
        "outputId": "a4035501-f589-4a9a-ff70-6a3944c5778a"
      },
      "source": [
        "ax = sns.barplot(x=\"lovely_brand\", y=\"user_id\", data=brands_loyalty)"
      ],
      "execution_count": 51,
      "outputs": [
        {
          "output_type": "display_data",
          "data": {
            "image/png": "[encoded data removed]",
            "text/plain": [
              "<Figure size 432x288 with 1 Axes>"
            ]
          },
          "metadata": {
            "tags": [],
            "needs_background": "light"
          }
        }
      ]
    },
    {
      "cell_type": "code",
      "metadata": {
        "id": "4qDMyMY2Xwvk"
      },
      "source": [
        ""
      ],
      "execution_count": null,
      "outputs": []
    }
  ]
}